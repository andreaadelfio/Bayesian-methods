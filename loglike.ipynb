{
 "cells": [
  {
   "cell_type": "code",
   "execution_count": 38,
   "metadata": {},
   "outputs": [],
   "source": [
    "import numpy as np\n",
    "import astropy\n",
    "import matplotlib.pyplot as plt\n",
    "from astropy.table import Table, QTable, vstack\n",
    "from astropy.coordinates import match_coordinates_sky, SkyCoord, Distance\n",
    "from astropy import units as u\n",
    "from astropy.cosmology import FlatLambdaCDM, Planck15\n",
    "\n",
    "get_ipython().run_line_magic('matplotlib', 'inline')"
   ]
  },
  {
   "cell_type": "markdown",
   "metadata": {},
   "source": [
    "Reading fits files and matching:"
   ]
  },
  {
   "cell_type": "code",
   "execution_count": 39,
   "metadata": {},
   "outputs": [],
   "source": [
    "cosmo = FlatLambdaCDM(H0=70, Om0=0.3)\n",
    "\n",
    "spt1 = Table.read('2500d_cluster_sample_Bocquet19.fits', format = 'fits')\n",
    "spt2 = Table.read('sptecs_catalog_oct919.fits', format = 'fits')\n",
    "spt = vstack([spt1, spt2], join_type='inner')\n",
    "rm = Table.read('y3_gold_2.2.1_wide_sofcol_run2_redmapper_v6.4.22+2_lgt20_vl50_catalog.fit', format = 'fits')\n",
    "\n",
    "spt_id, spt_z = spt['SPT_ID'], spt['REDSHIFT']\n",
    "spt_ra_dec = SkyCoord(ra = spt['RA'] * u.degree, dec = spt['DEC'] * u.degree, distance = Distance(z = spt_z, cosmology = cosmo))\n",
    "\n",
    "rm_id, rm_z, rm_chisq = rm['MEM_MATCH_ID'], rm['Z_LAMBDA'], np.array(rm['LAMBDA_CHISQ'])\n",
    "rm_ra_dec = SkyCoord(ra = rm['RA'] * u.degree, dec = rm['DEC'] * u.degree, distance = Distance(z = rm_z, cosmology = cosmo))\n",
    "\n",
    "\n",
    "spt = QTable([spt_id, spt_ra_dec, spt_z], names = ('id', 'ra, dec', 'z'))\n",
    "rm = QTable([rm_id, rm_ra_dec, rm_z], names = ('id', 'ra, dec', 'z'))\n",
    "\n",
    "\n",
    "idx, sep2d, dist3d = match_coordinates_sky(rm['ra, dec'], spt['ra, dec']) #the order counts, len(rm)>>len(spt)\n",
    "zdist = abs(spt['z'][idx]-rm['z'])\n",
    "\n",
    "bln = (sep2d.arcmin < 10) & (zdist < 0.1)\n",
    "matches_raw = {'rm_spt_ids':   np.column_stack((np.where(bln)[0], idx[bln])), \n",
    "               'sep2d_arcmin': sep2d[bln].arcmin, \n",
    "               'z':            rm['z'][bln], \n",
    "               'arcmin_to_mpc':  Planck15.arcsec_per_kpc_comoving(zdist[bln]).to(u.arcmin/u.Mpc).value }\n",
    "rm_m_ids, spt_m_ids = matches_raw['rm_spt_ids'].T\n",
    "rm_m_chisq = rm_chisq[bln]\n",
    "\n",
    "matches = {'rm_spt_ids':[], 'sep2d_arcmin':[], 'z': [], 'dist_Mpc':[]}\n",
    "for i in range(len(spt_m_ids)):\n",
    "    result = np.where(spt_m_ids == spt_m_ids[i])[0]\n",
    "    if len(result)==1:\n",
    "        matches['rm_spt_ids'].append(list(matches_raw['rm_spt_ids'][result[0]]))\n",
    "        matches['sep2d_arcmin'].append(matches_raw['sep2d_arcmin'][result[0]]) \n",
    "        matches['z'].append(matches_raw['z'][result[0]])\n",
    "        matches['dist_Mpc'].append(matches_raw['sep2d_arcmin'][result[0]]/matches_raw['arcmin_to_mpc'][result[0]])\n",
    "    if len(result)>1:\n",
    "        rm_new_m = rm_m_ids[result[np.where(np.array(rm_m_chisq[result]) == np.amax(np.array(rm_m_chisq[result])))]]\n",
    "        new_id = np.where(matches_raw['rm_spt_ids'] == rm_new_m)[0][0]\n",
    "        matches['rm_spt_ids'].append(list(matches_raw['rm_spt_ids'][new_id]))\n",
    "        matches['sep2d_arcmin'].append(matches_raw['sep2d_arcmin'][new_id]) \n",
    "        matches['z'].append(matches_raw['z'][new_id])\n",
    "        matches['dist_Mpc'].append(matches_raw['sep2d_arcmin'][new_id]/matches_raw['arcmin_to_mpc'][new_id])        \n",
    "\n",
    "spt_ids = np.array(matches['rm_spt_ids']).T[1]\n",
    "spt_z_m = np.array(spt['z'][spt_ids])\n",
    "\n",
    "offset = np.array(matches['dist_Mpc'])\n",
    "offset_err = np.sqrt(np.sum(offset**2)/len(offset))"
   ]
  },
  {
   "cell_type": "markdown",
   "metadata": {},
   "source": [
    "Plot:"
   ]
  },
  {
   "cell_type": "code",
   "execution_count": 40,
   "metadata": {},
   "outputs": [
    {
     "data": {
      "text/plain": [
       "(-10, 1119)"
      ]
     },
     "execution_count": 40,
     "metadata": {},
     "output_type": "execute_result"
    },
    {
     "data": {
      "image/png": "[encoded data removed]",
      "text/plain": [
       "<Figure size 432x288 with 1 Axes>"
      ]
     },
     "metadata": {
      "needs_background": "light"
     },
     "output_type": "display_data"
    }
   ],
   "source": [
    "plt.errorbar(spt_ids, offset, fmt = 'k.', ms = 2)\n",
    "plt.ylabel(r'Offset / [Mpc]')\n",
    "plt.xlabel(r'SPT ID')\n",
    "plt.xlim(-10, max(spt_ids) + 10)"
   ]
  },
  {
   "cell_type": "code",
   "execution_count": 41,
   "metadata": {},
   "outputs": [
    {
     "data": {
      "text/plain": [
       "Text(0.5, 0, 'SPT z')"
      ]
     },
     "execution_count": 41,
     "metadata": {},
     "output_type": "execute_result"
    },
    {
     "data": {
      "image/png": "[encoded data removed]",
      "text/plain": [
       "<Figure size 432x288 with 1 Axes>"
      ]
     },
     "metadata": {
      "needs_background": "light"
     },
     "output_type": "display_data"
    }
   ],
   "source": [
    "plt.errorbar(spt_z_m, offset, fmt = 'k.', ms = 2)\n",
    "plt.ylabel(r'Offset / [Mpc]')\n",
    "plt.xlabel(r'SPT z')"
   ]
  },
  {
   "cell_type": "code",
   "execution_count": 42,
   "metadata": {
    "scrolled": true
   },
   "outputs": [
    {
     "data": {
      "text/plain": [
       "Text(0, 0.5, '$\\\\mathrm{N} / \\\\mathrm{N}_{tot}$')"
      ]
     },
     "execution_count": 42,
     "metadata": {},
     "output_type": "execute_result"
    },
    {
     "data": {
      "image/png": "[encoded data removed]",
      "text/plain": [
       "<Figure size 432x288 with 1 Axes>"
      ]
     },
     "metadata": {
      "needs_background": "light"
     },
     "output_type": "display_data"
    }
   ],
   "source": [
    "nbin = 10\n",
    "bins = np.zeros((nbin) + 1)\n",
    "\n",
    "bin_width = (max(offset) - min(offset)) / nbin\n",
    "for i in range(len(offset)):\n",
    "    bins[int(offset[i] / bin_width)] += 1\n",
    "bins = bins / max(bins)\n",
    "\n",
    "plt.plot(bin_width * range(len(bins)), bins, 'k.', ms = 1)\n",
    "plt.xlabel(r'Offset / [Mpc]')\n",
    "plt.ylabel(r'$\\mathrm{N} / \\mathrm{N}_{tot}$')"
   ]
  },
  {
   "cell_type": "markdown",
   "metadata": {},
   "source": [
    "# Rayleigh Distribution:\n",
    "$$P(x) = \\frac{x}{\\sigma^2}\\mathrm{e}^{-0.5({x}/{\\sigma})^2} \\text{ and } \\log(P(x)) = -2\\log(\\sigma) - \\frac{x^2}{2\\sigma ^2} + \\log(x)$$\n",
    "\n"
   ]
  },
  {
   "cell_type": "code",
   "execution_count": 43,
   "metadata": {},
   "outputs": [
    {
     "name": "stderr",
     "output_type": "stream",
     "text": [
      "100%|██████████| 2000/2000 [00:16<00:00, 120.98it/s]\n"
     ]
    },
    {
     "data": {
      "text/plain": [
       "State([[0.07050563]\n",
       " [0.07321248]\n",
       " [0.07090159]\n",
       " [0.06947527]\n",
       " [0.06876756]\n",
       " [0.07207272]\n",
       " [0.07074957]\n",
       " [0.06958497]\n",
       " [0.06899848]\n",
       " [0.07201933]\n",
       " [0.06830645]\n",
       " [0.06988868]\n",
       " [0.07124127]\n",
       " [0.07118061]\n",
       " [0.07038114]\n",
       " [0.07165824]], log_prob=[-1196.44142786 -1198.79979548 -1196.51888155 -1196.70887362\n",
       " -1197.30556215 -1197.2987954  -1196.47766439 -1196.64715445\n",
       " -1197.07255561 -1197.2459573  -1197.88498002 -1196.51820677\n",
       " -1196.66178992 -1196.63117564 -1196.43731009 -1196.93117665], blobs=None, random_state=('MT19937', array([2052719732, 3704814029,  820652970, 2707937346, 1335497396,\n",
       "       4029291475, 3743504763, 3141263872,  767982562, 2602210167,\n",
       "       2806082954, 1299768495, 2616530181,  951450007,  519220373,\n",
       "       3971237173, 1093220408,  902285457, 3698717477, 2025883713,\n",
       "        507716376, 2120536154, 1762179093,  582666987, 1213505836,\n",
       "       1385706980, 1683967360, 3081146155, 1464887662, 3620369470,\n",
       "       2885170144, 2262913970, 3449225006, 3715696936, 1298680537,\n",
       "       1028920097,  883862920, 1031815794,  871877761, 4285738329,\n",
       "       2675145489, 2374398931, 4007296636,  556955759,  808734564,\n",
       "       1290210134,   73556734,  271289904,  223694773,   31199783,\n",
       "       1680028081, 1681212001, 3944418596,  341809907,  406621972,\n",
       "       2536502801, 4056362120, 1884580602,  715520432, 4129359592,\n",
       "       2756763561, 2480135265,  554761309, 3599099422, 3159912006,\n",
       "       2105546687, 2142863494, 1924733336, 2398176945, 2289129812,\n",
       "       1042911112, 3792071197, 4172017765,    4885324, 3626972313,\n",
       "       1658771424, 1029305906,  731667909, 1222802736,  873100809,\n",
       "        731499791, 2620126190, 1443033824,   11701454, 1855436908,\n",
       "       1053478173, 2741135098, 2368829499, 3332100482, 3803852932,\n",
       "       4017375456, 1963435773, 2119817622, 2050784502,  258355533,\n",
       "       1697343912, 1310639879,  744668133,  961652312, 2853592321,\n",
       "       2933076432, 1054319561, 3088415416,  224788917, 1109591658,\n",
       "       3474272088, 2639188365, 2911699717, 3643760258,  493600912,\n",
       "       2849682996,  155471001, 1802620798, 2138343282, 2606264231,\n",
       "        793043935,  185301159,  563581133, 3848400635, 3624874415,\n",
       "       1820232378,  680257162, 2479971742, 3177821997, 2847624378,\n",
       "        915803657,  157116325, 2842172496, 3802187786, 3510774898,\n",
       "       1211753325, 3313287285, 3339229711, 3412963021,  932061285,\n",
       "        500370650, 3056730851, 1843399944, 3953235640, 3106141235,\n",
       "        809388898, 4138592247,  781725482, 3476574295, 1996785322,\n",
       "       1592630280, 3835435293,  273596945, 3066985319, 3513214291,\n",
       "       2225746341, 1790869117, 2283077865,  940691542,  477945312,\n",
       "       2375824493,  546762097, 1812907553, 1874463393,  773039706,\n",
       "       2329865979, 1080116178, 1047478621, 2046218144, 3876369910,\n",
       "        930564755, 2885792126, 2118781650,  934618109, 4146636745,\n",
       "       3884391950, 2260852871,  502911754, 3881553696, 1204578690,\n",
       "        354848358,  519588606, 1657635832, 1860505425, 1279442735,\n",
       "       2156991047, 3848387598,  639924513, 2052744602,  924118608,\n",
       "       3879510245, 2263581021, 1352521480, 3374103539, 4020846202,\n",
       "       3911364535, 3878415254, 2358157860,  613691189, 3893409633,\n",
       "       1034191588, 1630253715, 1216171495, 2717215125,  688189038,\n",
       "       3481921232, 3108559820, 1327603762, 2261770164, 1941058013,\n",
       "       2374358369, 3050094379, 4098984984, 1501787663, 2050138183,\n",
       "       1415431845,  362820103,  421716211, 1952608466, 1755221002,\n",
       "       1089115807, 4104856110,  980538661, 2620129213, 3384500140,\n",
       "       2001044294,   82360808, 3947720688, 3475099988, 3556060676,\n",
       "        545421441, 3214628421,  924351642, 1100685938, 3427091686,\n",
       "       2103726693, 3582185565, 2584831431, 1379496382,  774589126,\n",
       "       4270286057, 3219973483, 3909026961, 2579009573, 3899377857,\n",
       "       1314207729, 1751865244, 2200474048, 1417719800, 3330915569,\n",
       "       1220218426, 1562959084, 2263790657, 2134327673, 1931142544,\n",
       "       1510249682,  668282179, 4140774692, 3082614985, 2097962975,\n",
       "       1225299682, 2940755194,  356785873, 3831378907, 2237653746,\n",
       "       2105646641, 3989892025, 1573326648, 3399246500,  733715725,\n",
       "       2548097224, 2662372423, 1368138514, 3112180867, 3106310273,\n",
       "       3788933261,  658194471, 3321390945, 2080880270, 3896372298,\n",
       "       2314458902, 2912113391,  484649592, 1435287558, 3665920109,\n",
       "       1981982627, 1183649665,  392646130, 1048448292, 1938478630,\n",
       "       1376062360, 4236379310, 1164282099, 3262506682, 1105037102,\n",
       "       3808393257,  904853031, 1261494302, 1076439536, 2371312841,\n",
       "       3119835629, 2727974707, 4102658607, 1580834895, 1189849065,\n",
       "       4205567676,  483647829,   43432845, 1219791112,  362215825,\n",
       "       2374275026, 3028983314, 2072732968, 1976333078, 1247959757,\n",
       "       3230378124, 4071460082, 3330590556, 1829235794, 2052217913,\n",
       "       4104957876, 2066724572,  275716939, 3588569768, 3563043906,\n",
       "       2462400498, 3532072676, 3123054511, 3888418569, 1004628819,\n",
       "       1462333205,  789870332, 2635130608, 3686026398,  360748483,\n",
       "       3056701201, 2201635394, 2336106067,  110343659,   38902936,\n",
       "       1316110838, 1748306691, 1234466870,    9075927, 3585822599,\n",
       "         72631312,  971283383, 1066160941, 2860527756, 3612080220,\n",
       "       2669521488, 4107396774, 3462772811,  941479967,  497537201,\n",
       "       3162969041, 3462983809, 2148564055, 2907182903,   17548368,\n",
       "        255967410, 2362482472,  283270572, 1067721729, 3892404499,\n",
       "       3754098482, 2663913945,  544833707, 3725443800,  789843396,\n",
       "       2759996312,  990119333,  579428236,  482471470, 1905953686,\n",
       "       2454129143,  546373690,  379864209, 1699079896, 2631886180,\n",
       "       2266166020,   60870651, 2897424476, 3532359783, 2060128886,\n",
       "       3283855479, 2385497833,  250758422, 3003930262, 1525345800,\n",
       "       2043896356, 2882456088, 2846081119,  530699742, 1887855226,\n",
       "       3185638204, 3553136381, 2312520909,  323526383, 2236007351,\n",
       "       4054197066, 1977499465, 3217616957, 3486502066, 2787748273,\n",
       "        520738186,  843772309,  271991911,  652855969, 3534286935,\n",
       "        968476462,  678990148, 3051066775, 1018823699,  863125054,\n",
       "       3664686972, 4258361418, 3635738289, 1393277877, 2713250290,\n",
       "         95936298, 2024433735,  213909246, 3473760686,  360926589,\n",
       "       2194715538,  245706848, 2039264067, 2910100524, 3121652247,\n",
       "        949473103, 3784507684, 3800308003, 4119114032, 4073667561,\n",
       "       2313446128, 4194475760, 4194379263, 1187992871, 3500188449,\n",
       "        232793604, 1322983867, 3056551629,  253237710, 3157499137,\n",
       "        509941497, 1458510130, 3289303310, 4218198097,  426458968,\n",
       "       2852724034, 1084970248, 1499009608, 3973192374, 1878851441,\n",
       "       3561970232, 1488461195, 1588980928, 1833458103, 1041343514,\n",
       "        384568995, 3035140626, 1302041458, 3655457387, 3701796452,\n",
       "       3935532167,  823448707,  218168527, 2163424697, 1648057850,\n",
       "       3659637655, 2662582817, 3220300639, 4010351356, 1412619452,\n",
       "       3900168663, 3352744016, 1562457870, 3909579594,  505356980,\n",
       "       1999238318, 3379359871, 2034928022, 4174292145, 3078056954,\n",
       "       3985687906,  279233152, 3659869259, 3298161382, 3236537280,\n",
       "       1470534979,  705085125, 2976666570,  156131419,  590182330,\n",
       "        606039489, 3608781359, 3991246428,  412345088,  993082425,\n",
       "       3961299344, 4231985128, 1970787265, 3504269646,  700936578,\n",
       "       2780116716,  158677767, 3882291087, 2370926704, 3230787348,\n",
       "       3249591438, 3462393693, 4198357008, 3541929014, 2823751036,\n",
       "       3564648343, 3489911413,  188820483, 3997769821, 1475706287,\n",
       "       1163593776, 3161032316, 4279559096, 1798659936, 2027366435,\n",
       "       2491762068, 4241489507, 2600650600, 2898266514,  364755815,\n",
       "         70575270, 1809631423, 2918679446, 3868102905, 2377882673,\n",
       "        238187319, 1035646954, 3634347018, 3781595084, 1835050811,\n",
       "       2735274322, 3956442715, 3783048825, 1621841582, 2935937922,\n",
       "        894004513,  525128098, 2803350198, 2286497451,  895238078,\n",
       "       1838723319, 2611383149, 3750043753, 2456780399, 1692626434,\n",
       "        446955270, 3745260345, 3238360978, 2188751262,  557419110,\n",
       "       2052597731, 3841286268,  778618264, 2580750782, 1008199376,\n",
       "        841012819,  986776077, 1352642010, 1479369313,  459166650,\n",
       "       1724907644, 3470135471, 2711387447, 1342557412, 3325419350,\n",
       "       1093534794, 2818614002, 4163526465, 3847043053, 3999052542,\n",
       "       2551527656, 1452837113, 3586601474, 3748459371, 3033590513,\n",
       "        782412578, 3315776522, 1488198549, 2193100080,  134615598,\n",
       "        115549474, 3816872247, 2601175167,  799573020, 1681953671,\n",
       "         85029674, 1367285393,   22364058, 3283248298, 1771865149,\n",
       "        312962278,  348102476,  520685209, 1866420299,  969123500,\n",
       "       3644008654,  872647408, 1317368824,  822121281,  688523818,\n",
       "       2663003902, 3861051336, 3011989950, 1334704109, 1980981403,\n",
       "        969796080, 2938183523, 2826704215,  946748005, 4084091762,\n",
       "       1657967996, 1769235548, 1068159299, 2321660197, 2326906694,\n",
       "       2376260949,  772279779,  235269946,  150158707], dtype=uint32), 35, 0, 0.0))"
      ]
     },
     "execution_count": 43,
     "metadata": {},
     "output_type": "execute_result"
    }
   ],
   "source": [
    "def log_prior(sigma):\n",
    "    if np.all(sigma) > 0:\n",
    "        return 0.0\n",
    "    return -np.inf\n",
    "\n",
    "def log_likelihood(sigma, x):\n",
    "    log_l = np.sum(- 2 * np.log(sigma) - 0.5 * (x / sigma)**2 + np.log(x))\n",
    "    return log_l\n",
    "\n",
    "def log_posterior(sigma, x):\n",
    "    log_prio = log_prior(sigma)\n",
    "    if not np.isfinite(log_prio):\n",
    "        return - np.inf\n",
    "    log_like = log_likelihood(sigma, x)\n",
    "    log_post = log_like + log_prio\n",
    "    return log_post\n",
    "\n",
    "\n",
    "import emcee\n",
    "\n",
    "sigma_arr = offset_err + 0.1 * np.random.random((16, 1)) \n",
    "\n",
    "nwalkers, ndim = sigma_arr.shape\n",
    "\n",
    "\n",
    "sampler = emcee.EnsembleSampler(nwalkers, ndim, log_posterior, args=[offset])\n",
    "sampler.run_mcmc(sigma_arr, 2000, progress = True)"
   ]
  },
  {
   "cell_type": "code",
   "execution_count": 44,
   "metadata": {},
   "outputs": [
    {
     "name": "stdout",
     "output_type": "stream",
     "text": [
      "Tau =  [15.5013055]\n",
      "Sigma_max_likelihood =  0.07070757286026952\n"
     ]
    },
    {
     "data": {
      "image/png": "[encoded data removed]",
      "text/plain": [
       "<Figure size 432x288 with 1 Axes>"
      ]
     },
     "metadata": {
      "needs_background": "light"
     },
     "output_type": "display_data"
    },
    {
     "data": {
      "image/png": "[encoded data removed]",
      "text/plain": [
       "<Figure size 244.8x244.8 with 1 Axes>"
      ]
     },
     "metadata": {
      "needs_background": "light"
     },
     "output_type": "display_data"
    },
    {
     "data": {
      "image/png": "[encoded data removed]",
      "text/plain": [
       "<Figure size 216x216 with 1 Axes>"
      ]
     },
     "metadata": {
      "needs_background": "light"
     },
     "output_type": "display_data"
    }
   ],
   "source": [
    "sample = sampler.get_chain()\n",
    "\n",
    "label = [r'$\\sigma$']\n",
    "plt.plot(sample[:,:,0], \"k\", alpha=0.3)\n",
    "plt.ylabel(label[0])\n",
    "plt.xlabel('step')\n",
    "\n",
    "tau = sampler.get_autocorr_time()\n",
    "print('Tau = ', tau)\n",
    "flat_samples = sampler.get_chain(discard=100, flat=True)\n",
    "flat_blob = sampler.get_blobs(flat=True,discard=100)\n",
    "\n",
    "Max_likelihood = np.argmax(flat_blob)\n",
    "sigma_ml = flat_samples[Max_likelihood,:][0]\n",
    "print('Sigma_max_likelihood = ', sigma_ml)\n",
    "\n",
    "import corner, pygtc\n",
    "fig = corner.corner(flat_samples, labels=label)\n",
    "\n",
    "GTC = pygtc.plotGTC(chains = flat_samples, paramNames = label, figureSize = 3, \n",
    "                    holdRC = True, customLabelFont = {'size':14}, \n",
    "                    customTickFont = {'size':14}, truths = flat_samples[Max_likelihood,:])"
   ]
  },
  {
   "cell_type": "code",
   "execution_count": 45,
   "metadata": {},
   "outputs": [
    {
     "data": {
      "text/plain": [
       "[<matplotlib.lines.Line2D at 0x7f22a8dd0b90>]"
      ]
     },
     "execution_count": 45,
     "metadata": {},
     "output_type": "execute_result"
    },
    {
     "data": {
      "image/png": "[encoded data removed]",
      "text/plain": [
       "<Figure size 432x288 with 1 Axes>"
      ]
     },
     "metadata": {
      "needs_background": "light"
     },
     "output_type": "display_data"
    }
   ],
   "source": [
    "plt.hist(bins)\n",
    "\n",
    "x = np.linspace(min(offset), max(offset), 100)\n",
    "plt.plot(x, x * np.exp(-0.5 * (x/sigma_ml)**2) / sigma_ml**2, '.')"
   ]
  },
  {
   "cell_type": "markdown",
   "metadata": {},
   "source": [
    "# 2 Rayleigh Distributions:\n",
    "$$P(x|\\sigma_0, \\sigma_1, p_0) = x (\\frac{p_0}{\\sigma_0^2}\\mathrm{e}^{-0.5({x}/{\\sigma_0})^2} + \\frac{1 - p_0}{\\sigma_1^2}\\mathrm{e}^{-0.5({x}/{\\sigma_1})^2})$$\n"
   ]
  },
  {
   "cell_type": "code",
   "execution_count": 46,
   "metadata": {},
   "outputs": [
    {
     "name": "stderr",
     "output_type": "stream",
     "text": [
      "  4%|▍         | 84/2000 [00:00<00:19, 100.53it/s]/home/andrea/anaconda3/lib/python3.7/site-packages/ipykernel_launcher.py:10: RuntimeWarning: divide by zero encountered in log\n",
      "  # Remove the CWD from sys.path while we load stuff.\n",
      "100%|██████████| 2000/2000 [00:22<00:00, 89.50it/s]\n"
     ]
    },
    {
     "data": {
      "text/plain": [
       "State([[0.00252461 0.13103044 0.70522269]\n",
       " [0.00250602 0.12220792 0.68509789]\n",
       " [0.002892   0.12361165 0.7461148 ]\n",
       " [0.0028691  0.13709578 0.74750208]\n",
       " [0.00265898 0.12983256 0.73564023]\n",
       " [0.00259201 0.13187454 0.72077235]\n",
       " [0.00278021 0.1340207  0.71667152]\n",
       " [0.00280837 0.13282852 0.75014737]\n",
       " [0.00293074 0.13912254 0.72097383]\n",
       " [0.00263955 0.1220839  0.71592076]\n",
       " [0.00288792 0.1345002  0.71445814]\n",
       " [0.00258964 0.12861197 0.71550693]\n",
       " [0.00265372 0.12705135 0.70840472]\n",
       " [0.00270148 0.12919778 0.73932631]\n",
       " [0.00283923 0.13063004 0.70536128]\n",
       " [0.00253121 0.13473431 0.70286252]], log_prob=[1756.55484246 1755.20954104 1753.97217203 1755.31245771 1756.7339851\n",
       " 1756.9026362  1756.93046354 1755.67405212 1755.05014351 1756.21018217\n",
       " 1756.019215   1757.30561719 1757.35343765 1756.59862155 1756.16480391\n",
       " 1755.66098098], blobs=None, random_state=('MT19937', array([2052719732, 3704814029,  820652970, 2707937346, 1335497396,\n",
       "       4029291475, 3743504763, 3141263872,  767982562, 2602210167,\n",
       "       2806082954, 1299768495, 2616530181,  951450007,  519220373,\n",
       "       3971237173, 1093220408,  902285457, 3698717477, 2025883713,\n",
       "        507716376, 2120536154, 1762179093,  582666987, 1213505836,\n",
       "       1385706980, 1683967360, 3081146155, 1464887662, 3620369470,\n",
       "       2885170144, 2262913970, 3449225006, 3715696936, 1298680537,\n",
       "       1028920097,  883862920, 1031815794,  871877761, 4285738329,\n",
       "       2675145489, 2374398931, 4007296636,  556955759,  808734564,\n",
       "       1290210134,   73556734,  271289904,  223694773,   31199783,\n",
       "       1680028081, 1681212001, 3944418596,  341809907,  406621972,\n",
       "       2536502801, 4056362120, 1884580602,  715520432, 4129359592,\n",
       "       2756763561, 2480135265,  554761309, 3599099422, 3159912006,\n",
       "       2105546687, 2142863494, 1924733336, 2398176945, 2289129812,\n",
       "       1042911112, 3792071197, 4172017765,    4885324, 3626972313,\n",
       "       1658771424, 1029305906,  731667909, 1222802736,  873100809,\n",
       "        731499791, 2620126190, 1443033824,   11701454, 1855436908,\n",
       "       1053478173, 2741135098, 2368829499, 3332100482, 3803852932,\n",
       "       4017375456, 1963435773, 2119817622, 2050784502,  258355533,\n",
       "       1697343912, 1310639879,  744668133,  961652312, 2853592321,\n",
       "       2933076432, 1054319561, 3088415416,  224788917, 1109591658,\n",
       "       3474272088, 2639188365, 2911699717, 3643760258,  493600912,\n",
       "       2849682996,  155471001, 1802620798, 2138343282, 2606264231,\n",
       "        793043935,  185301159,  563581133, 3848400635, 3624874415,\n",
       "       1820232378,  680257162, 2479971742, 3177821997, 2847624378,\n",
       "        915803657,  157116325, 2842172496, 3802187786, 3510774898,\n",
       "       1211753325, 3313287285, 3339229711, 3412963021,  932061285,\n",
       "        500370650, 3056730851, 1843399944, 3953235640, 3106141235,\n",
       "        809388898, 4138592247,  781725482, 3476574295, 1996785322,\n",
       "       1592630280, 3835435293,  273596945, 3066985319, 3513214291,\n",
       "       2225746341, 1790869117, 2283077865,  940691542,  477945312,\n",
       "       2375824493,  546762097, 1812907553, 1874463393,  773039706,\n",
       "       2329865979, 1080116178, 1047478621, 2046218144, 3876369910,\n",
       "        930564755, 2885792126, 2118781650,  934618109, 4146636745,\n",
       "       3884391950, 2260852871,  502911754, 3881553696, 1204578690,\n",
       "        354848358,  519588606, 1657635832, 1860505425, 1279442735,\n",
       "       2156991047, 3848387598,  639924513, 2052744602,  924118608,\n",
       "       3879510245, 2263581021, 1352521480, 3374103539, 4020846202,\n",
       "       3911364535, 3878415254, 2358157860,  613691189, 3893409633,\n",
       "       1034191588, 1630253715, 1216171495, 2717215125,  688189038,\n",
       "       3481921232, 3108559820, 1327603762, 2261770164, 1941058013,\n",
       "       2374358369, 3050094379, 4098984984, 1501787663, 2050138183,\n",
       "       1415431845,  362820103,  421716211, 1952608466, 1755221002,\n",
       "       1089115807, 4104856110,  980538661, 2620129213, 3384500140,\n",
       "       2001044294,   82360808, 3947720688, 3475099988, 3556060676,\n",
       "        545421441, 3214628421,  924351642, 1100685938, 3427091686,\n",
       "       2103726693, 3582185565, 2584831431, 1379496382,  774589126,\n",
       "       4270286057, 3219973483, 3909026961, 2579009573, 3899377857,\n",
       "       1314207729, 1751865244, 2200474048, 1417719800, 3330915569,\n",
       "       1220218426, 1562959084, 2263790657, 2134327673, 1931142544,\n",
       "       1510249682,  668282179, 4140774692, 3082614985, 2097962975,\n",
       "       1225299682, 2940755194,  356785873, 3831378907, 2237653746,\n",
       "       2105646641, 3989892025, 1573326648, 3399246500,  733715725,\n",
       "       2548097224, 2662372423, 1368138514, 3112180867, 3106310273,\n",
       "       3788933261,  658194471, 3321390945, 2080880270, 3896372298,\n",
       "       2314458902, 2912113391,  484649592, 1435287558, 3665920109,\n",
       "       1981982627, 1183649665,  392646130, 1048448292, 1938478630,\n",
       "       1376062360, 4236379310, 1164282099, 3262506682, 1105037102,\n",
       "       3808393257,  904853031, 1261494302, 1076439536, 2371312841,\n",
       "       3119835629, 2727974707, 4102658607, 1580834895, 1189849065,\n",
       "       4205567676,  483647829,   43432845, 1219791112,  362215825,\n",
       "       2374275026, 3028983314, 2072732968, 1976333078, 1247959757,\n",
       "       3230378124, 4071460082, 3330590556, 1829235794, 2052217913,\n",
       "       4104957876, 2066724572,  275716939, 3588569768, 3563043906,\n",
       "       2462400498, 3532072676, 3123054511, 3888418569, 1004628819,\n",
       "       1462333205,  789870332, 2635130608, 3686026398,  360748483,\n",
       "       3056701201, 2201635394, 2336106067,  110343659,   38902936,\n",
       "       1316110838, 1748306691, 1234466870,    9075927, 3585822599,\n",
       "         72631312,  971283383, 1066160941, 2860527756, 3612080220,\n",
       "       2669521488, 4107396774, 3462772811,  941479967,  497537201,\n",
       "       3162969041, 3462983809, 2148564055, 2907182903,   17548368,\n",
       "        255967410, 2362482472,  283270572, 1067721729, 3892404499,\n",
       "       3754098482, 2663913945,  544833707, 3725443800,  789843396,\n",
       "       2759996312,  990119333,  579428236,  482471470, 1905953686,\n",
       "       2454129143,  546373690,  379864209, 1699079896, 2631886180,\n",
       "       2266166020,   60870651, 2897424476, 3532359783, 2060128886,\n",
       "       3283855479, 2385497833,  250758422, 3003930262, 1525345800,\n",
       "       2043896356, 2882456088, 2846081119,  530699742, 1887855226,\n",
       "       3185638204, 3553136381, 2312520909,  323526383, 2236007351,\n",
       "       4054197066, 1977499465, 3217616957, 3486502066, 2787748273,\n",
       "        520738186,  843772309,  271991911,  652855969, 3534286935,\n",
       "        968476462,  678990148, 3051066775, 1018823699,  863125054,\n",
       "       3664686972, 4258361418, 3635738289, 1393277877, 2713250290,\n",
       "         95936298, 2024433735,  213909246, 3473760686,  360926589,\n",
       "       2194715538,  245706848, 2039264067, 2910100524, 3121652247,\n",
       "        949473103, 3784507684, 3800308003, 4119114032, 4073667561,\n",
       "       2313446128, 4194475760, 4194379263, 1187992871, 3500188449,\n",
       "        232793604, 1322983867, 3056551629,  253237710, 3157499137,\n",
       "        509941497, 1458510130, 3289303310, 4218198097,  426458968,\n",
       "       2852724034, 1084970248, 1499009608, 3973192374, 1878851441,\n",
       "       3561970232, 1488461195, 1588980928, 1833458103, 1041343514,\n",
       "        384568995, 3035140626, 1302041458, 3655457387, 3701796452,\n",
       "       3935532167,  823448707,  218168527, 2163424697, 1648057850,\n",
       "       3659637655, 2662582817, 3220300639, 4010351356, 1412619452,\n",
       "       3900168663, 3352744016, 1562457870, 3909579594,  505356980,\n",
       "       1999238318, 3379359871, 2034928022, 4174292145, 3078056954,\n",
       "       3985687906,  279233152, 3659869259, 3298161382, 3236537280,\n",
       "       1470534979,  705085125, 2976666570,  156131419,  590182330,\n",
       "        606039489, 3608781359, 3991246428,  412345088,  993082425,\n",
       "       3961299344, 4231985128, 1970787265, 3504269646,  700936578,\n",
       "       2780116716,  158677767, 3882291087, 2370926704, 3230787348,\n",
       "       3249591438, 3462393693, 4198357008, 3541929014, 2823751036,\n",
       "       3564648343, 3489911413,  188820483, 3997769821, 1475706287,\n",
       "       1163593776, 3161032316, 4279559096, 1798659936, 2027366435,\n",
       "       2491762068, 4241489507, 2600650600, 2898266514,  364755815,\n",
       "         70575270, 1809631423, 2918679446, 3868102905, 2377882673,\n",
       "        238187319, 1035646954, 3634347018, 3781595084, 1835050811,\n",
       "       2735274322, 3956442715, 3783048825, 1621841582, 2935937922,\n",
       "        894004513,  525128098, 2803350198, 2286497451,  895238078,\n",
       "       1838723319, 2611383149, 3750043753, 2456780399, 1692626434,\n",
       "        446955270, 3745260345, 3238360978, 2188751262,  557419110,\n",
       "       2052597731, 3841286268,  778618264, 2580750782, 1008199376,\n",
       "        841012819,  986776077, 1352642010, 1479369313,  459166650,\n",
       "       1724907644, 3470135471, 2711387447, 1342557412, 3325419350,\n",
       "       1093534794, 2818614002, 4163526465, 3847043053, 3999052542,\n",
       "       2551527656, 1452837113, 3586601474, 3748459371, 3033590513,\n",
       "        782412578, 3315776522, 1488198549, 2193100080,  134615598,\n",
       "        115549474, 3816872247, 2601175167,  799573020, 1681953671,\n",
       "         85029674, 1367285393,   22364058, 3283248298, 1771865149,\n",
       "        312962278,  348102476,  520685209, 1866420299,  969123500,\n",
       "       3644008654,  872647408, 1317368824,  822121281,  688523818,\n",
       "       2663003902, 3861051336, 3011989950, 1334704109, 1980981403,\n",
       "        969796080, 2938183523, 2826704215,  946748005, 4084091762,\n",
       "       1657967996, 1769235548, 1068159299, 2321660197, 2326906694,\n",
       "       2376260949,  772279779,  235269946,  150158707], dtype=uint32), 138, 0, 0.0))"
      ]
     },
     "execution_count": 46,
     "metadata": {},
     "output_type": "execute_result"
    }
   ],
   "source": [
    "def log_prior2(theta):\n",
    "    sigma_0, delta_sigma, p_0 = theta\n",
    "    if sigma_0 > 0 and delta_sigma > 0 and 0 < p_0 < 1:\n",
    "        return 0.0\n",
    "    return -np.inf\n",
    "\n",
    "def log_likelihood2(theta, x):\n",
    "    sigma_0, delta_sigma, p_0 = theta\n",
    "    sigma_1 = sigma_0 + delta_sigma\n",
    "    log_l = np.sum(np.log(x * (p_0 * np.exp(- 0.5 * (x / sigma_0)**2) / (sigma_0**2) + (1 - p_0) * np.exp(- 0.5 * (x / sigma_1)**2) / (sigma_1**2))))\n",
    "    return log_l\n",
    "\n",
    "def log_posterior2(theta, x):\n",
    "    log_prio = log_prior2(theta)\n",
    "    if not np.isfinite(log_prio):\n",
    "        return - np.inf\n",
    "    log_like = log_likelihood2(theta, x)\n",
    "    log_post = log_like + log_prio\n",
    "    return log_post\n",
    "\n",
    "\n",
    "sigma_arr2 = [0.1, 0.2, 0.5] + 1e-2 * np.random.random((16, 3))\n",
    "nwalkers2, ndim2 = sigma_arr2.shape\n",
    "\n",
    "sampler2 = emcee.EnsembleSampler(nwalkers2, ndim2, log_posterior2, args=[offset])\n",
    "sampler2.run_mcmc(sigma_arr2, 2000, progress = True)"
   ]
  },
  {
   "cell_type": "code",
   "execution_count": 47,
   "metadata": {},
   "outputs": [
    {
     "name": "stdout",
     "output_type": "stream",
     "text": [
      "(2000, 16, 3)\n"
     ]
    },
    {
     "data": {
      "image/png": "[encoded data removed]",
      "text/plain": [
       "<Figure size 720x504 with 3 Axes>"
      ]
     },
     "metadata": {
      "needs_background": "light"
     },
     "output_type": "display_data"
    }
   ],
   "source": [
    "fig, axes = plt.subplots(3, figsize=(10, 7), sharex=True)\n",
    "samples2 = sampler2.get_chain()\n",
    "\n",
    "print(samples2.shape)\n",
    "labels = [\"$\\sigma_0$\", \"$\\Delta\\sigma$\", \"p$_0$\"]\n",
    "for i in range(ndim):\n",
    "    ax = axes[i]\n",
    "    ax.plot(samples2[:, :, i], \"k\", alpha=0.3)\n",
    "    ax.set_xlim(0, len(samples2))\n",
    "    ax.set_ylabel(labels[i])\n",
    "    ax.yaxis.set_label_coords(-0.1, 0.5)\n",
    "\n",
    "axes[-1].set_xlabel(\"step number\");"
   ]
  },
  {
   "cell_type": "code",
   "execution_count": 48,
   "metadata": {},
   "outputs": [
    {
     "name": "stdout",
     "output_type": "stream",
     "text": [
      "[0.00285472 0.13310387 0.75070892]\n"
     ]
    },
    {
     "data": {
      "text/plain": [
       "\"import corner, pygtc\\nfig = corner.corner(flat_samples, labels=label)\\n\\nGTC = pygtc.plotGTC(chains = flat_samples, paramNames = label, figureSize = 3, \\n                    holdRC = True, customLabelFont = {'size':14}, \\n                    customTickFont = {'size':14}, truths = flat_samples[Max_likelihood,:])\""
      ]
     },
     "execution_count": 48,
     "metadata": {},
     "output_type": "execute_result"
    }
   ],
   "source": [
    "flat_samples = sampler2.get_chain(discard=200, flat=True)\n",
    "flat_blob = sampler2.get_blobs(flat=True,discard=200)\n",
    "\n",
    "Max_likelihood2 = np.argmax(flat_blob)\n",
    "par_ml = flat_samples[Max_likelihood2, :]\n",
    "print(par_ml)\n",
    "\n",
    "'''import corner, pygtc\n",
    "fig = corner.corner(flat_samples, labels=label)\n",
    "\n",
    "GTC = pygtc.plotGTC(chains = flat_samples, paramNames = label, figureSize = 3, \n",
    "                    holdRC = True, customLabelFont = {'size':14}, \n",
    "                    customTickFont = {'size':14}, truths = flat_samples[Max_likelihood,:])'''"
   ]
  },
  {
   "cell_type": "code",
   "execution_count": 58,
   "metadata": {},
   "outputs": [
    {
     "data": {
      "text/plain": [
       "[<matplotlib.lines.Line2D at 0x7f22a89a5490>]"
      ]
     },
     "execution_count": 58,
     "metadata": {},
     "output_type": "execute_result"
    },
    {
     "data": {
      "image/png": "[encoded data removed]",
      "text/plain": [
       "<Figure size 432x288 with 1 Axes>"
      ]
     },
     "metadata": {
      "needs_background": "light"
     },
     "output_type": "display_data"
    }
   ],
   "source": [
    "plt.hist(bins)\n",
    "\n",
    "x = np.linspace(min(offset), max(offset), 100)\n",
    "sigma_0, delta_sigma, p_0 = par_ml\n",
    "sigma_1 = sigma_0 + delta_sigma\n",
    "y = x * (p_0 * np.exp(- 0.5 * (x / sigma_0)**2) / (sigma_0**2) + (1 - p_0) * np.exp(- 0.5 * (x / sigma_1)**2) / (sigma_1**2))\n",
    "plt.plot(x, y, '.')"
   ]
  },
  {
   "cell_type": "code",
   "execution_count": null,
   "metadata": {},
   "outputs": [],
   "source": []
  },
  {
   "cell_type": "code",
   "execution_count": null,
   "metadata": {},
   "outputs": [],
   "source": []
  },
  {
   "cell_type": "code",
   "execution_count": null,
   "metadata": {},
   "outputs": [],
   "source": []
  },
  {
   "cell_type": "code",
   "execution_count": null,
   "metadata": {},
   "outputs": [],
   "source": []
  }
 ],
 "metadata": {
  "kernelspec": {
   "display_name": "Python 3",
   "language": "python",
   "name": "python3"
  },
  "language_info": {
   "codemirror_mode": {
    "name": "ipython",
    "version": 3
   },
   "file_extension": ".py",
   "mimetype": "text/x-python",
   "name": "python",
   "nbconvert_exporter": "python",
   "pygments_lexer": "ipython3",
   "version": "3.7.4"
  }
 },
 "nbformat": 4,
 "nbformat_minor": 2
}
