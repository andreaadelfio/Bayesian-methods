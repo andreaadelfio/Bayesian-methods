{
 "cells": [
  {
   "cell_type": "code",
   "execution_count": 128,
   "metadata": {},
   "outputs": [],
   "source": [
    "import numpy as np\n",
    "import astropy\n",
    "import matplotlib.pyplot as plt\n",
    "from astropy.table import Table, QTable, vstack\n",
    "from astropy.coordinates import match_coordinates_sky, SkyCoord, Distance\n",
    "from astropy import units as u\n",
    "from astropy.cosmology import FlatLambdaCDM\n",
    "\n",
    "get_ipython().run_line_magic('matplotlib', 'inline')"
   ]
  },
  {
   "cell_type": "markdown",
   "metadata": {},
   "source": [
    "Reading fits files:"
   ]
  },
  {
   "cell_type": "code",
   "execution_count": 129,
   "metadata": {},
   "outputs": [],
   "source": [
    "cosmo = FlatLambdaCDM(H0=70, Om0=0.3)\n",
    "\n",
    "spt1 = Table.read('2500d_cluster_sample_Bocquet19.fits', format = 'fits')\n",
    "spt2 = Table.read('sptecs_catalog_oct919.fits', format = 'fits')\n",
    "spt = vstack([spt1, spt2], join_type='inner')\n",
    "rm = Table.read('y3_gold_2.2.1_wide_sofcol_run2_redmapper_v6.4.22+2_lgt20_vl50_catalog.fit', format = 'fits')\n",
    "\n",
    "spt_id, spt_z = spt['SPT_ID'], spt['REDSHIFT']\n",
    "spt_ra_dec = SkyCoord(ra = spt['RA'] * u.degree, dec = spt['DEC'] * u.degree, distance = Distance(z = spt_z, cosmology = cosmo))\n",
    "\n",
    "rm_id, rm_z, rm_chisq = rm['MEM_MATCH_ID'], rm['Z_LAMBDA'], np.array(rm['LAMBDA_CHISQ'])\n",
    "rm_ra_dec = SkyCoord(ra = rm['RA'] * u.degree, dec = rm['DEC'] * u.degree, distance = Distance(z = rm_z, cosmology = cosmo))\n"
   ]
  },
  {
   "cell_type": "markdown",
   "metadata": {},
   "source": [
    "Matching:"
   ]
  },
  {
   "cell_type": "code",
   "execution_count": 130,
   "metadata": {},
   "outputs": [],
   "source": [
    "dict = {}\n",
    "for i in range(len(spt_id)):   #z < 0.1\n",
    "    ids = list(np.where(abs(spt_z[i]-rm_z) < 0.1)[0])\n",
    "    if len(ids) != 0:\n",
    "        dict[i] = ids\n",
    "        \n",
    "newdict = {}\n",
    "for i in dict:   # ang < 10\n",
    "    ids = list(np.where(spt_ra_dec[i].separation(rm_ra_dec[dict[i]]).arcmin < 10)[0])  \n",
    "    if len(ids) != 0:\n",
    "        newdict[i] = ids\n",
    "        \n",
    "for i in newdict:    # max lambda_chisq\n",
    "    if len(newdict[i])>1:\n",
    "        newdict[i] = newdict[i][np.where(rm_chisq[newdict[i]] == max(rm_chisq[newdict[i]]))[0][0]] \n"
   ]
  },
  {
   "cell_type": "code",
   "execution_count": 131,
   "metadata": {},
   "outputs": [],
   "source": [
    "spt_i, rm_j = list(newdict.keys()), list(newdict.values())\n",
    "dist3d = []\n",
    "for i in range(len(spt_i)):\n",
    "    dist = spt_ra_dec[spt_i[i]].separation_3d(rm_ra_dec[rm_j[i]]).value\n",
    "    dist3d.append(dist)\n",
    "    "
   ]
  },
  {
   "cell_type": "code",
   "execution_count": 132,
   "metadata": {},
   "outputs": [
    {
     "data": {
      "text/plain": [
       "(-10, 1119)"
      ]
     },
     "execution_count": 132,
     "metadata": {},
     "output_type": "execute_result"
    },
    {
     "data": {
      "image/png": "[encoded data removed]",
      "text/plain": [
       "<Figure size 432x288 with 1 Axes>"
      ]
     },
     "metadata": {
      "needs_background": "light"
     },
     "output_type": "display_data"
    }
   ],
   "source": [
    "plt.errorbar(spt_i, dist3d, fmt = 'k.', ms = 2)#dist3d_err\n",
    "plt.ylabel(r'Distance / [Mpc]')\n",
    "plt.xlabel(r'SPT ID')\n",
    "plt.xlim(-10, max(spt_i) + 10)\n",
    "\n"
   ]
  },
  {
   "cell_type": "markdown",
   "metadata": {},
   "source": [
    "AGAIN"
   ]
  },
  {
   "cell_type": "markdown",
   "metadata": {},
   "source": [
    "Reading data and matching:"
   ]
  },
  {
   "cell_type": "code",
   "execution_count": 133,
   "metadata": {},
   "outputs": [],
   "source": [
    "spt = QTable([spt_id, spt_ra_dec, spt_z], names = ('id', 'ra, dec', 'z'))\n",
    "rm = QTable([rm_id, rm_ra_dec, rm_z], names = ('id', 'ra, dec', 'z'))\n",
    "\n",
    "idx, sep2d, dist3d = match_coordinates_sky(rm['ra, dec'], spt['ra, dec']) #the order counts, len(rm)>>len(spt)\n",
    "zdist = abs(spt['z'][idx]-rm['z'])\n",
    "\n",
    "bln = (sep2d.arcmin < 10) & (zdist < 0.1)\n",
    "matches_raw = {'rm_spt_ids':   np.column_stack((np.where(bln)[0], idx[bln])), \n",
    "               'sep2d_arcmin': sep2d[bln].arcmin, \n",
    "               'z':            zdist[bln], \n",
    "               'dist3d_Mpc':   dist3d[bln].value}\n",
    "rm_m_ids, spt_m_ids = matches_raw['rm_spt_ids'].T\n",
    "rm_m_chisq = rm_chisq[bln]"
   ]
  },
  {
   "cell_type": "code",
   "execution_count": 134,
   "metadata": {},
   "outputs": [],
   "source": [
    "matches = {'rm_spt_ids':[], 'sep2d_arcmin':[], 'z': [], 'dist3d_Mpc':[]}\n",
    "for i in range(len(spt_m_ids)):\n",
    "    result = np.where(spt_m_ids == spt_m_ids[i])[0]\n",
    "    if len(result)==1:\n",
    "        matches['rm_spt_ids'].append(list(matches_raw['rm_spt_ids'][result[0]]))\n",
    "        matches['sep2d_arcmin'].append(matches_raw['sep2d_arcmin'][result[0]]) \n",
    "        matches['z'].append(matches_raw['z'][result[0]])\n",
    "        matches['dist3d_Mpc'].append(matches_raw['dist3d_Mpc'][result[0]])\n",
    "    if len(result)>1:\n",
    "        rm_new_m = rm_m_ids[result[np.where(np.array(rm_m_chisq[result]) == np.amax(np.array(rm_m_chisq[result])))]]\n",
    "        new_id = np.where(matches_raw['rm_spt_ids'] == rm_new_m)[0][0]\n",
    "        matches['rm_spt_ids'].append(list(matches_raw['rm_spt_ids'][new_id]))\n",
    "        matches['sep2d_arcmin'].append(matches_raw['sep2d_arcmin'][new_id]) \n",
    "        matches['z'].append(matches_raw['z'][new_id])\n",
    "        matches['dist3d_Mpc'].append(matches_raw['dist3d_Mpc'][new_id])\n",
    "        \n",
    "\n",
    "spt_ids = np.array(matches['rm_spt_ids']).T[1]\n",
    "dist3d_m = np.array(matches['dist3d_Mpc'])\n",
    "dist3d_err = np.sqrt(np.sum(dist3d_m**2)/len(dist3d_m))\n",
    "\n"
   ]
  },
  {
   "cell_type": "markdown",
   "metadata": {},
   "source": [
    "Plot:"
   ]
  },
  {
   "cell_type": "code",
   "execution_count": 135,
   "metadata": {},
   "outputs": [
    {
     "data": {
      "text/plain": [
       "(-10, 1119)"
      ]
     },
     "execution_count": 135,
     "metadata": {},
     "output_type": "execute_result"
    },
    {
     "data": {
      "image/png": "[encoded data removed]",
      "text/plain": [
       "<Figure size 432x288 with 1 Axes>"
      ]
     },
     "metadata": {
      "needs_background": "light"
     },
     "output_type": "display_data"
    }
   ],
   "source": [
    "plt.errorbar(spt_ids, dist3d_m, fmt = 'k.', ms = 2)#dist3d_err\n",
    "plt.ylabel(r'Distance / [Mpc]')\n",
    "plt.xlabel(r'SPT ID')\n",
    "plt.xlim(-10, max(spt_ids) + 10)"
   ]
  },
  {
   "cell_type": "markdown",
   "metadata": {},
   "source": [
    "# Rayleigh Distribution:\n",
    "$$P(x) = \\frac{x}{\\sigma^2}\\mathrm{e}^{-0.5({x}/{\\sigma})^2} \\text{ and } \\log(P(x)) = -2\\log(\\sigma) - \\frac{x^2}{2\\sigma ^2} + \\log(x)$$\n",
    "\n"
   ]
  },
  {
   "cell_type": "code",
   "execution_count": 136,
   "metadata": {},
   "outputs": [],
   "source": [
    "def log_prior(theta):\n",
    "    H0, Om0, Tcmb0 = theta\n",
    "    if 0 < H0 < 150 and 0.0 < Om0 < 2.0 and 2 < Tcmb0 < 3:\n",
    "        return 0.0\n",
    "    return -np.inf\n",
    "\n",
    "def log_likelihood(theta, z, dist3d, dist3d_err):\n",
    "    err = dist3d_err\n",
    "    logl = np.sum(- 2 * np.log(err) - dist3d**2/2./err**2 + np.log(dist3d))\n",
    "    return logl\n",
    "\n",
    "def log_posterior(theta, z, dist3d, dist3d_err):\n",
    "    lprio = log_prior(theta)\n",
    "    if not np.isfinite(lp):\n",
    "        return - np.inf\n",
    "    logl = log_likelihood(theta, z, dist3d, dist3d_err)\n",
    "    logpos = logl + lprior\n",
    "    return logpos, lprior, logl"
   ]
  },
  {
   "cell_type": "code",
   "execution_count": null,
   "metadata": {},
   "outputs": [],
   "source": []
  }
 ],
 "metadata": {
  "kernelspec": {
   "display_name": "Python 3",
   "language": "python",
   "name": "python3"
  },
  "language_info": {
   "codemirror_mode": {
    "name": "ipython",
    "version": 3
   },
   "file_extension": ".py",
   "mimetype": "text/x-python",
   "name": "python",
   "nbconvert_exporter": "python",
   "pygments_lexer": "ipython3",
   "version": "3.7.4"
  }
 },
 "nbformat": 4,
 "nbformat_minor": 2
}
