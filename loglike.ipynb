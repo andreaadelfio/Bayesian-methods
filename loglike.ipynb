{
 "cells": [
  {
   "cell_type": "code",
   "execution_count": 10,
   "metadata": {},
   "outputs": [],
   "source": [
    "import numpy as np\n",
    "import astropy\n",
    "import matplotlib.pyplot as plt\n",
    "from astropy.table import Table, QTable, vstack\n",
    "from astropy.coordinates import match_coordinates_sky, SkyCoord, Distance\n",
    "from astropy import units as u\n",
    "from astropy.cosmology import FlatLambdaCDM, Planck15\n",
    "\n",
    "get_ipython().run_line_magic('matplotlib', 'inline')"
   ]
  },
  {
   "cell_type": "markdown",
   "metadata": {},
   "source": [
    "Reading fits files and matching:"
   ]
  },
  {
   "cell_type": "code",
   "execution_count": 11,
   "metadata": {},
   "outputs": [],
   "source": [
    "cosmo = FlatLambdaCDM(H0=70, Om0=0.3)\n",
    "\n",
    "spt1 = Table.read('2500d_cluster_sample_Bocquet19.fits', format = 'fits')\n",
    "spt2 = Table.read('sptecs_catalog_oct919.fits', format = 'fits')\n",
    "spt = vstack([spt1, spt2], join_type='inner')\n",
    "rm = Table.read('y3_gold_2.2.1_wide_sofcol_run2_redmapper_v6.4.22+2_lgt20_vl50_catalog.fit', format = 'fits')\n",
    "\n",
    "spt_id, spt_z = spt['SPT_ID'], spt['REDSHIFT']\n",
    "spt_ra_dec = SkyCoord(ra = spt['RA'] * u.degree, dec = spt['DEC'] * u.degree, distance = Distance(z = spt_z, cosmology = cosmo))\n",
    "\n",
    "rm_id, rm_z, rm_chisq = rm['MEM_MATCH_ID'], rm['Z_LAMBDA'], np.array(rm['LAMBDA_CHISQ'])\n",
    "rm_ra_dec = SkyCoord(ra = rm['RA'] * u.degree, dec = rm['DEC'] * u.degree, distance = Distance(z = rm_z, cosmology = cosmo))\n",
    "\n",
    "\n",
    "spt = QTable([spt_id, spt_ra_dec, spt_z], names = ('id', 'ra, dec', 'z'))\n",
    "rm = QTable([rm_id, rm_ra_dec, rm_z], names = ('id', 'ra, dec', 'z'))\n",
    "\n",
    "\n",
    "idx, sep2d, dist3d = match_coordinates_sky(rm['ra, dec'], spt['ra, dec']) #the order counts, len(rm)>>len(spt)\n",
    "zdist = abs(spt['z'][idx]-rm['z'])\n",
    "\n",
    "bln = (sep2d.arcmin < 10) & (zdist < 0.1)\n",
    "matches_raw = {'rm_spt_ids':   np.column_stack((np.where(bln)[0], idx[bln])), \n",
    "               'sep2d_arcmin': sep2d[bln].arcmin, \n",
    "               'z':            rm['z'][bln], \n",
    "               'arcmin_to_mpc':  Planck15.arcsec_per_kpc_comoving(zdist[bln]).to(u.arcmin/u.Mpc).value }\n",
    "rm_m_ids, spt_m_ids = matches_raw['rm_spt_ids'].T\n",
    "rm_m_chisq = rm_chisq[bln]\n",
    "\n",
    "matches = {'rm_spt_ids':[], 'sep2d_arcmin':[], 'z': [], 'dist_Mpc':[]}\n",
    "for i in range(len(spt_m_ids)):\n",
    "    result = np.where(spt_m_ids == spt_m_ids[i])[0]\n",
    "    if len(result)==1:\n",
    "        matches['rm_spt_ids'].append(list(matches_raw['rm_spt_ids'][result[0]]))\n",
    "        matches['sep2d_arcmin'].append(matches_raw['sep2d_arcmin'][result[0]]) \n",
    "        matches['z'].append(matches_raw['z'][result[0]])\n",
    "        matches['dist_Mpc'].append(matches_raw['sep2d_arcmin'][result[0]]/matches_raw['arcmin_to_mpc'][result[0]])\n",
    "    if len(result)>1:\n",
    "        rm_new_m = rm_m_ids[result[np.where(np.array(rm_m_chisq[result]) == np.amax(np.array(rm_m_chisq[result])))]]\n",
    "        new_id = np.where(matches_raw['rm_spt_ids'] == rm_new_m)[0][0]\n",
    "        matches['rm_spt_ids'].append(list(matches_raw['rm_spt_ids'][new_id]))\n",
    "        matches['sep2d_arcmin'].append(matches_raw['sep2d_arcmin'][new_id]) \n",
    "        matches['z'].append(matches_raw['z'][new_id])\n",
    "        matches['dist_Mpc'].append(matches_raw['sep2d_arcmin'][new_id]/matches_raw['arcmin_to_mpc'][new_id])        \n",
    "\n",
    "spt_ids = np.array(matches['rm_spt_ids']).T[1]\n",
    "spt_z_m = np.array(spt['z'][spt_ids])\n",
    "#rm_z_m = np.array(matches['z'])\n",
    "#dist_spt_m = Distance(z = spt_z_m, cosmology = cosmo)\n",
    "#dist_rm_m = Distance(z = rm_z_m, cosmology = cosmo)\n",
    "\n",
    "offset = np.array(matches['dist_Mpc'])\n",
    "offset_err = np.sqrt(np.sum(offset**2)/len(offset))"
   ]
  },
  {
   "cell_type": "markdown",
   "metadata": {},
   "source": [
    "Plot:"
   ]
  },
  {
   "cell_type": "code",
   "execution_count": 12,
   "metadata": {},
   "outputs": [
    {
     "data": {
      "text/plain": [
       "(-10, 1119)"
      ]
     },
     "execution_count": 12,
     "metadata": {},
     "output_type": "execute_result"
    },
    {
     "data": {
      "image/png": "[encoded data removed]",
      "text/plain": [
       "<Figure size 432x288 with 1 Axes>"
      ]
     },
     "metadata": {
      "needs_background": "light"
     },
     "output_type": "display_data"
    }
   ],
   "source": [
    "plt.errorbar(spt_ids, offset, fmt = 'k.', ms = 2)\n",
    "plt.ylabel(r'Offset / [Mpc]')\n",
    "plt.xlabel(r'SPT ID')\n",
    "plt.xlim(-10, max(spt_ids) + 10)"
   ]
  },
  {
   "cell_type": "code",
   "execution_count": 13,
   "metadata": {},
   "outputs": [
    {
     "data": {
      "text/plain": [
       "Text(0.5, 0, 'SPT z')"
      ]
     },
     "execution_count": 13,
     "metadata": {},
     "output_type": "execute_result"
    },
    {
     "data": {
      "image/png": "[encoded data removed]",
      "text/plain": [
       "<Figure size 432x288 with 1 Axes>"
      ]
     },
     "metadata": {
      "needs_background": "light"
     },
     "output_type": "display_data"
    }
   ],
   "source": [
    "plt.errorbar(spt_z_m, offset, fmt = 'k.', ms = 2)\n",
    "plt.ylabel(r'Offset / [Mpc]')\n",
    "plt.xlabel(r'SPT z')"
   ]
  },
  {
   "cell_type": "code",
   "execution_count": 14,
   "metadata": {
    "scrolled": true
   },
   "outputs": [
    {
     "data": {
      "text/plain": [
       "Text(0, 0.5, '$\\\\mathrm{N} / \\\\mathrm{N}_{tot}$')"
      ]
     },
     "execution_count": 14,
     "metadata": {},
     "output_type": "execute_result"
    },
    {
     "data": {
      "image/png": "[encoded data removed]",
      "text/plain": [
       "<Figure size 432x288 with 1 Axes>"
      ]
     },
     "metadata": {
      "needs_background": "light"
     },
     "output_type": "display_data"
    }
   ],
   "source": [
    "nbin = len(offset)\n",
    "bins = np.zeros((nbin) + 1)\n",
    "\n",
    "bin_width = (max(offset) - min(offset)) / nbin\n",
    "for i in range(len(offset)):\n",
    "    bins[int(offset[i] / bin_width)] += 1\n",
    "bins = bins / max(bins)\n",
    "\n",
    "plt.plot(bin_width * range(len(bins)), bins, 'k.', ms = 1)\n",
    "plt.xlabel(r'Offset / [Mpc]')\n",
    "plt.ylabel(r'$\\mathrm{N} / \\mathrm{N}_{tot}$')"
   ]
  },
  {
   "cell_type": "markdown",
   "metadata": {},
   "source": [
    "# Rayleigh Distribution:\n",
    "$$P(x) = \\frac{x}{\\sigma^2}\\mathrm{e}^{-0.5({x}/{\\sigma})^2} \\text{ and } \\log(P(x)) = -2\\log(\\sigma) - \\frac{x^2}{2\\sigma ^2} + \\log(x)$$\n",
    "\n"
   ]
  },
  {
   "cell_type": "code",
   "execution_count": 15,
   "metadata": {},
   "outputs": [
    {
     "name": "stderr",
     "output_type": "stream",
     "text": [
      "100%|██████████| 2000/2000 [00:14<00:00, 138.36it/s]\n"
     ]
    }
   ],
   "source": [
    "def log_prior(sigma):\n",
    "    if np.any(sigma) > 0:\n",
    "        return 0.0\n",
    "    return -np.inf\n",
    "\n",
    "def log_likelihood(sigma, x):\n",
    "    log_l = np.sum(- 2 * np.log(sigma) - 0.5 * (x / sigma)**2 + np.log(x))\n",
    "    return log_l\n",
    "\n",
    "def log_posterior(sigma, x):\n",
    "    log_prio = log_prior(sigma)\n",
    "    if not np.isfinite(log_prio):\n",
    "        return - np.inf\n",
    "    log_like = log_likelihood(sigma, x)\n",
    "    log_post = log_like + log_prio\n",
    "    return log_post, log_prio, log_like\n",
    "\n",
    "\n",
    "import emcee\n",
    "\n",
    "sigma_arr = offset_err + 0.1 * np.random.random((16, 1)) \n",
    "\n",
    "nwalkers, ndim = sigma_arr.shape\n",
    "\n",
    "\n",
    "sampler = emcee.EnsembleSampler(nwalkers, ndim, log_posterior, args=[offset])\n",
    "sampler.run_mcmc(sigma_arr, 2000, progress = True);"
   ]
  },
  {
   "cell_type": "code",
   "execution_count": 16,
   "metadata": {},
   "outputs": [
    {
     "data": {
      "text/plain": [
       "Text(0.5, 0, 'step')"
      ]
     },
     "execution_count": 16,
     "metadata": {},
     "output_type": "execute_result"
    },
    {
     "data": {
      "image/png": "[encoded data removed]",
      "text/plain": [
       "<Figure size 432x288 with 1 Axes>"
      ]
     },
     "metadata": {
      "needs_background": "light"
     },
     "output_type": "display_data"
    }
   ],
   "source": [
    "sample = sampler.get_chain()\n",
    "label = [r'$\\sigma$']\n",
    "plt.plot(sample[:,:,0], \"k\", alpha=0.3)\n",
    "plt.ylabel(label[0])\n",
    "plt.xlabel('step')"
   ]
  },
  {
   "cell_type": "code",
   "execution_count": 17,
   "metadata": {},
   "outputs": [
    {
     "name": "stdout",
     "output_type": "stream",
     "text": [
      "Tau =  [15.93314171]\n"
     ]
    }
   ],
   "source": [
    "tau = sampler.get_autocorr_time()\n",
    "print('Tau = ', tau)"
   ]
  },
  {
   "cell_type": "code",
   "execution_count": 18,
   "metadata": {},
   "outputs": [
    {
     "name": "stdout",
     "output_type": "stream",
     "text": [
      "Sigma_max_likelihood =  0.07039100826955874\n"
     ]
    },
    {
     "name": "stderr",
     "output_type": "stream",
     "text": [
      "findfont: Font family ['Arial'] not found. Falling back to DejaVu Sans.\n"
     ]
    },
    {
     "data": {
      "image/png": "[encoded data removed]",
      "text/plain": [
       "<Figure size 244.8x244.8 with 1 Axes>"
      ]
     },
     "metadata": {
      "needs_background": "light"
     },
     "output_type": "display_data"
    },
    {
     "data": {
      "image/png": "[encoded data removed]",
      "text/plain": [
       "<Figure size 216x216 with 1 Axes>"
      ]
     },
     "metadata": {
      "needs_background": "light"
     },
     "output_type": "display_data"
    }
   ],
   "source": [
    "flat_samples = sampler.get_chain(discard=100, flat=True)\n",
    "flat_blob = sampler.get_blobs(flat=True,discard=100)\n",
    "\n",
    "Max_likelihood=np.argmax(flat_blob[:,1])\n",
    "sigma_ml = flat_samples[Max_likelihood,:][0]\n",
    "print('Sigma_max_likelihood = ', sigma_ml)\n",
    "\n",
    "import corner, pygtc\n",
    "fig = corner.corner(flat_samples, labels=label)\n",
    "\n",
    "GTC = pygtc.plotGTC(chains = flat_samples, paramNames = label, figureSize = 3, \n",
    "                    holdRC = True, customLabelFont = {'size':14}, \n",
    "                    customTickFont = {'size':14}, truths = flat_samples[Max_likelihood,:])"
   ]
  },
  {
   "cell_type": "markdown",
   "metadata": {},
   "source": [
    "# Rayleigh Distribution:\n",
    "$$P(x) = x (\\frac{p_0}{\\sigma_0^2}\\mathrm{e}^{-0.5({x}/{\\sigma_0})^2} + \\frac{1 - p_0}{\\sigma_1^2}\\mathrm{e}^{-0.5({x}/{\\sigma_1})^2}) \\text{ and } \\log(P(x)) = -2\\log(\\sigma) - \\frac{x^2}{2\\sigma ^2} + \\log(x)$$\n"
   ]
  },
  {
   "cell_type": "code",
   "execution_count": null,
   "metadata": {},
   "outputs": [],
   "source": []
  },
  {
   "cell_type": "code",
   "execution_count": null,
   "metadata": {},
   "outputs": [],
   "source": []
  }
 ],
 "metadata": {
  "kernelspec": {
   "display_name": "Python 3",
   "language": "python",
   "name": "python3"
  },
  "language_info": {
   "codemirror_mode": {
    "name": "ipython",
    "version": 3
   },
   "file_extension": ".py",
   "mimetype": "text/x-python",
   "name": "python",
   "nbconvert_exporter": "python",
   "pygments_lexer": "ipython3",
   "version": "3.7.4"
  }
 },
 "nbformat": 4,
 "nbformat_minor": 2
}
