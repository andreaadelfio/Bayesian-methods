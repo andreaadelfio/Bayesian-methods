{
 "cells": [
  {
   "cell_type": "code",
   "execution_count": 1,
   "metadata": {},
   "outputs": [],
   "source": [
    "import numpy as np\n",
    "import astropy\n",
    "import matplotlib.pyplot as plt\n",
    "from astropy.table import Table, QTable, vstack\n",
    "from astropy.coordinates import match_coordinates_sky, SkyCoord, Distance\n",
    "from astropy import units as u\n",
    "from astropy.cosmology import FlatLambdaCDM, Planck15\n",
    "\n",
    "get_ipython().run_line_magic('matplotlib', 'inline')"
   ]
  },
  {
   "cell_type": "markdown",
   "metadata": {},
   "source": [
    "Reading fits files and matching:"
   ]
  },
  {
   "cell_type": "code",
   "execution_count": 2,
   "metadata": {},
   "outputs": [],
   "source": [
    "cosmo = FlatLambdaCDM(H0=70, Om0=0.3)\n",
    "\n",
    "spt1 = Table.read('2500d_cluster_sample_Bocquet19.fits', format = 'fits')\n",
    "spt2 = Table.read('sptecs_catalog_oct919.fits', format = 'fits')\n",
    "spt = vstack([spt1, spt2], join_type='inner')\n",
    "rm = Table.read('y3_gold_2.2.1_wide_sofcol_run2_redmapper_v6.4.22+2_lgt20_vl50_catalog.fit', format = 'fits')\n",
    "\n",
    "spt_id, spt_z = spt['SPT_ID'], spt['REDSHIFT']\n",
    "spt_ra_dec = SkyCoord(ra = spt['RA'] * u.degree, dec = spt['DEC'] * u.degree, distance = Distance(z = spt_z, cosmology = cosmo))\n",
    "\n",
    "rm_id, rm_z, rm_chisq = rm['MEM_MATCH_ID'], rm['Z_LAMBDA'], np.array(rm['LAMBDA_CHISQ'])\n",
    "rm_ra_dec = SkyCoord(ra = rm['RA'] * u.degree, dec = rm['DEC'] * u.degree, distance = Distance(z = rm_z, cosmology = cosmo))\n",
    "\n",
    "\n",
    "spt = QTable([spt_id, spt_ra_dec, spt_z], names = ('id', 'ra, dec', 'z'))\n",
    "rm = QTable([rm_id, rm_ra_dec, rm_z], names = ('id', 'ra, dec', 'z'))\n",
    "\n",
    "\n",
    "idx, sep2d, dist3d = match_coordinates_sky(rm['ra, dec'], spt['ra, dec']) #the order counts, len(rm)>>len(spt)\n",
    "zdist = abs(spt['z'][idx]-rm['z'])\n",
    "\n",
    "bln = (sep2d.arcmin < 10) & (zdist < 0.1)\n",
    "matches_raw = {'rm_spt_ids':   np.column_stack((np.where(bln)[0], idx[bln])), \n",
    "               'sep2d_arcmin': sep2d[bln].arcmin, \n",
    "               'z':            rm['z'][bln], \n",
    "               'arcmin_to_mpc':  Planck15.arcsec_per_kpc_comoving(zdist[bln]).to(u.arcmin/u.Mpc).value }\n",
    "rm_m_ids, spt_m_ids = matches_raw['rm_spt_ids'].T\n",
    "rm_m_chisq = rm_chisq[bln]\n",
    "\n",
    "matches = {'rm_spt_ids':[], 'sep2d_arcmin':[], 'z': [], 'dist_Mpc':[]}\n",
    "for i in range(len(spt_m_ids)):\n",
    "    result = np.where(spt_m_ids == spt_m_ids[i])[0]\n",
    "    if len(result)==1:\n",
    "        matches['rm_spt_ids'].append(list(matches_raw['rm_spt_ids'][result[0]]))\n",
    "        matches['sep2d_arcmin'].append(matches_raw['sep2d_arcmin'][result[0]]) \n",
    "        matches['z'].append(matches_raw['z'][result[0]])\n",
    "        matches['dist_Mpc'].append(matches_raw['sep2d_arcmin'][result[0]]/matches_raw['arcmin_to_mpc'][result[0]])\n",
    "    if len(result)>1:\n",
    "        rm_new_m = rm_m_ids[result[np.where(np.array(rm_m_chisq[result]) == np.amax(np.array(rm_m_chisq[result])))]]\n",
    "        new_id = np.where(matches_raw['rm_spt_ids'] == rm_new_m)[0][0]\n",
    "        matches['rm_spt_ids'].append(list(matches_raw['rm_spt_ids'][new_id]))\n",
    "        matches['sep2d_arcmin'].append(matches_raw['sep2d_arcmin'][new_id]) \n",
    "        matches['z'].append(matches_raw['z'][new_id])\n",
    "        matches['dist_Mpc'].append(matches_raw['sep2d_arcmin'][new_id]/matches_raw['arcmin_to_mpc'][new_id])        \n",
    "\n",
    "spt_ids = np.array(matches['rm_spt_ids']).T[1]\n",
    "spt_z_m = np.array(spt['z'][spt_ids])\n",
    "#rm_z_m = np.array(matches['z'])\n",
    "#dist_spt_m = Distance(z = spt_z_m, cosmology = cosmo)\n",
    "#dist_rm_m = Distance(z = rm_z_m, cosmology = cosmo)\n",
    "\n",
    "offset = np.array(matches['dist_Mpc'])\n",
    "offset_err = np.sqrt(np.sum(offset**2)/len(offset))"
   ]
  },
  {
   "cell_type": "markdown",
   "metadata": {},
   "source": [
    "Plot:"
   ]
  },
  {
   "cell_type": "code",
   "execution_count": 3,
   "metadata": {},
   "outputs": [
    {
     "data": {
      "text/plain": [
       "(-10, 1119)"
      ]
     },
     "execution_count": 3,
     "metadata": {},
     "output_type": "execute_result"
    },
    {
     "data": {
      "image/png": "[encoded data removed]",
      "text/plain": [
       "<Figure size 432x288 with 1 Axes>"
      ]
     },
     "metadata": {
      "needs_background": "light"
     },
     "output_type": "display_data"
    }
   ],
   "source": [
    "plt.errorbar(spt_ids, offset, fmt = 'k.', ms = 2)\n",
    "plt.ylabel(r'Offset / [Mpc]')\n",
    "plt.xlabel(r'SPT ID')\n",
    "plt.xlim(-10, max(spt_ids) + 10)"
   ]
  },
  {
   "cell_type": "code",
   "execution_count": 4,
   "metadata": {},
   "outputs": [
    {
     "data": {
      "text/plain": [
       "Text(0.5, 0, 'SPT z')"
      ]
     },
     "execution_count": 4,
     "metadata": {},
     "output_type": "execute_result"
    },
    {
     "data": {
      "image/png": "[encoded data removed]",
      "text/plain": [
       "<Figure size 432x288 with 1 Axes>"
      ]
     },
     "metadata": {
      "needs_background": "light"
     },
     "output_type": "display_data"
    }
   ],
   "source": [
    "plt.errorbar(spt_z_m, offset, fmt = 'k.', ms = 2)\n",
    "plt.ylabel(r'Offset / [Mpc]')\n",
    "plt.xlabel(r'SPT z')"
   ]
  },
  {
   "cell_type": "code",
   "execution_count": 5,
   "metadata": {
    "scrolled": true
   },
   "outputs": [
    {
     "data": {
      "text/plain": [
       "Text(0, 0.5, '$\\\\mathrm{N} / \\\\mathrm{N}_{tot}$')"
      ]
     },
     "execution_count": 5,
     "metadata": {},
     "output_type": "execute_result"
    },
    {
     "data": {
      "image/png": "[encoded data removed]",
      "text/plain": [
       "<Figure size 432x288 with 1 Axes>"
      ]
     },
     "metadata": {
      "needs_background": "light"
     },
     "output_type": "display_data"
    }
   ],
   "source": [
    "nbin = len(offset)\n",
    "bins = np.zeros((nbin) + 1)\n",
    "\n",
    "bin_width = (max(offset) - min(offset)) / nbin\n",
    "for i in range(len(offset)):\n",
    "    bins[int(offset[i] / bin_width)] += 1\n",
    "bins = bins / max(bins)\n",
    "\n",
    "plt.plot(bin_width * range(len(bins)), bins, 'k.', ms = 1)\n",
    "plt.xlabel(r'Offset / [Mpc]')\n",
    "plt.ylabel(r'$\\mathrm{N} / \\mathrm{N}_{tot}$')"
   ]
  },
  {
   "cell_type": "markdown",
   "metadata": {},
   "source": [
    "# Rayleigh Distribution:\n",
    "$$P(x) = \\frac{x}{\\sigma^2}\\mathrm{e}^{-0.5({x}/{\\sigma})^2} \\text{ and } \\log(P(x)) = -2\\log(\\sigma) - \\frac{x^2}{2\\sigma ^2} + \\log(x)$$\n",
    "\n"
   ]
  },
  {
   "cell_type": "code",
   "execution_count": 7,
   "metadata": {},
   "outputs": [
    {
     "name": "stderr",
     "output_type": "stream",
     "text": [
      "100%|██████████| 2000/2000 [00:16<00:00, 122.57it/s]\n"
     ]
    },
    {
     "data": {
      "text/plain": [
       "State([[0.07288915]\n",
       " [0.0704264 ]\n",
       " [0.06937654]\n",
       " [0.07130078]\n",
       " [0.06991814]\n",
       " [0.0703568 ]\n",
       " [0.07091634]\n",
       " [0.070417  ]\n",
       " [0.07171923]\n",
       " [0.06987492]\n",
       " [0.06902758]\n",
       " [0.06911587]\n",
       " [0.06741273]\n",
       " [0.06953689]\n",
       " [0.0720902 ]\n",
       " [0.07129978]], log_prob=[-1198.30304249 -1196.43767478 -1196.77138556 -1196.69396064\n",
       " -1196.50894348 -1196.43765099 -1196.52363302 -1196.43749224\n",
       " -1196.97909922 -1196.52272751 -1197.0458607  -1196.96845737\n",
       " -1199.45807899 -1196.67320696 -1197.31644913 -1196.69340304], blobs=[[    0.         -1198.30304249]\n",
       " [    0.         -1196.43767478]\n",
       " [    0.         -1196.77138556]\n",
       " [    0.         -1196.69396064]\n",
       " [    0.         -1196.50894348]\n",
       " [    0.         -1196.43765099]\n",
       " [    0.         -1196.52363302]\n",
       " [    0.         -1196.43749224]\n",
       " [    0.         -1196.97909922]\n",
       " [    0.         -1196.52272751]\n",
       " [    0.         -1197.0458607 ]\n",
       " [    0.         -1196.96845737]\n",
       " [    0.         -1199.45807899]\n",
       " [    0.         -1196.67320696]\n",
       " [    0.         -1197.31644913]\n",
       " [    0.         -1196.69340304]], random_state=('MT19937', array([4131156037, 1369051123, 3228011518,  907605710, 4224696624,\n",
       "       1909945625, 4157340776,  454783886, 3187145561,   55554187,\n",
       "       1156421382,  406926402, 2244195662, 2977694999, 1536865509,\n",
       "       2378801540, 2983405461, 4124437660, 1718165951, 4127060746,\n",
       "        276691119,  459639444, 2171482794, 3378939585, 3878687648,\n",
       "       1338380574, 1932686769, 1377436465, 1266709876, 3322440772,\n",
       "        492090346, 4056660710, 1189425985, 2247017501, 2209686043,\n",
       "        718865692, 1844867898,  708211230, 3768734824,  595466050,\n",
       "       1332341731, 1856163459, 1578410848, 4187495599,  673772856,\n",
       "       3091758903, 2354927255, 1667590328, 2809932805, 1690443883,\n",
       "       3615460649, 3644383175,  352800806, 2587199735, 4144829453,\n",
       "       1340194025, 3510515114, 1397690783,  241231940,  259276594,\n",
       "       3763626647, 1515440547, 1373441910, 3417257578, 4129785362,\n",
       "        851734364, 3138299680, 4144788815, 2489639331, 3197301933,\n",
       "        184492467,    8619175, 2068237359, 1966566284, 4108024350,\n",
       "       1255828523, 3632383232, 1853117106, 1157243201, 1406439835,\n",
       "        652952097, 4075675030,  722133109, 3939135511,  411277658,\n",
       "       3674427647, 2933984999,  905904462, 1166549478, 3171264672,\n",
       "        103257338, 1524531499,  866752111, 3324316657, 1683679261,\n",
       "       2696446766, 1942242137, 4019246807,  828418132, 2701318948,\n",
       "       3312717009, 1514248798, 2545141101, 3878352168, 3361842112,\n",
       "       1417831018, 2927259301, 1283124890, 1288000146, 2475948192,\n",
       "       1448231478, 1749751983, 1188904559, 3743070538,  707806572,\n",
       "        317548110, 2963112748, 1420133960, 2945842919,  761022562,\n",
       "       2057546664, 3418149445,   72837547, 1993474146, 3471459281,\n",
       "        841939211, 1366735590, 4243855286, 2772949041,  127635259,\n",
       "       2643041596, 3261658864,   94567114,  830138418, 2527232567,\n",
       "       2541741381, 3631724136, 2926773410, 1680750291, 1966003970,\n",
       "       1390866988, 4205765885, 3351395687, 2001338677,  119355756,\n",
       "        592280516, 3842458943,   77713646, 2707059996, 1129112076,\n",
       "       1667297117,  470555881, 4022155454,  831019572,  120024595,\n",
       "       3406561952, 2579476591, 1555825875,  793929149, 2283843977,\n",
       "        530060744, 3569118689, 2933386770, 1742346089, 1495786383,\n",
       "        324706784, 3640797838, 3719687453, 1967747281, 3206106440,\n",
       "       1411322140, 1182376903,  346921651,  932608580, 2330587960,\n",
       "       1829732712,  327902952, 2252470657, 1236969467,  270897481,\n",
       "       3363329149,  274445044, 3099390190,  289183893, 1028711172,\n",
       "       3471166523, 1712122162, 3647567680, 3908695531, 2510816494,\n",
       "       1354007753, 2098597152, 1600873670, 3688057971, 3067692515,\n",
       "       4016279024, 3149872133, 2489925101, 3162216978, 1914590485,\n",
       "        537658497, 1930374249, 4211367507, 2075952134, 4238715704,\n",
       "       3911408233,   24807932, 1789245862, 3382407240, 3508813730,\n",
       "       3547435754, 3841359707,  822182090, 3880156519, 3106151482,\n",
       "       3214521311, 3196380039, 1370940233,  215778911, 1261121204,\n",
       "       3047356982, 1320496682, 2739239891, 3624463562, 1929168288,\n",
       "        484163929,   64437584, 2114694185, 4272916184, 3779561269,\n",
       "       2888740688, 2350372585,  676979987, 1606196765,  791377485,\n",
       "       2292450669,  105091644, 1092756837, 4066061406, 3447186076,\n",
       "       1767086761, 3351096994, 1405164519, 3871518862, 1575890987,\n",
       "       3599261722, 4282477763, 2027512994,  362097613,  947136609,\n",
       "       3581468763, 2328252864, 2536190341, 2238225865, 1700541357,\n",
       "       1229391302, 1695493152, 2457592182, 2225812077,  893716950,\n",
       "       1303958933, 1594255800, 3233656529, 1639015411, 3448820475,\n",
       "       3497233155,  233234667, 1008725832, 2400098956, 1052213093,\n",
       "       3655883497,  177606587, 1052323954, 1582609534, 4219915031,\n",
       "        465488909, 2124887249, 2541602245,  907193104, 2811595057,\n",
       "        218880071, 2987276682, 3275706141, 3232540397, 2702509894,\n",
       "        235049164,  152839761, 2664694010, 2298790928, 4263762398,\n",
       "       2907031197, 3995312398,  273856477, 1533881445, 1576849150,\n",
       "       1599052557,  536352806, 2106715769, 2139384198, 1913540606,\n",
       "        914779472, 2376767463,  298561109, 2142460385, 3051192275,\n",
       "       2706398602, 1023645172,  585667565, 1231030870,  247211232,\n",
       "       1351924533, 1562483882, 3963706589, 4095508376, 2744983398,\n",
       "       1120848398, 2028286307, 3832914535, 2785963616, 2155692064,\n",
       "       3459103681, 3860123644, 1264021488, 1380114264,  424919970,\n",
       "         65318630, 3647572069, 2623987233, 3898672143,  368636459,\n",
       "       2621405760, 1433941920,  901753686, 2663531091, 1851615150,\n",
       "       2545412728, 1755651483, 4227839130,    6043110, 2591620699,\n",
       "       2873951490,  116521449, 2166049112, 3195714791, 4234884732,\n",
       "       1849608358,  903560991, 2989461407,  226951051,  670496694,\n",
       "       1426552651, 2926886888, 1763488380, 4002369827, 3884384827,\n",
       "       2555373512,  944452569,    3426303, 3908606778,  410178218,\n",
       "       2203831624, 1258522528,   34326008, 1371699807, 2959349669,\n",
       "        838795999, 2709013660, 2330334730, 1412104591, 1545749866,\n",
       "        590629034, 3321628448, 3297227420, 3463175401,  571481083,\n",
       "        605359597, 4023391386, 3975091738, 1106486607, 1837205434,\n",
       "       1962500784,  630852182, 2981284459, 1657318038, 1129768602,\n",
       "        516154711,  991448914,  367608673, 1717560164, 1670078447,\n",
       "        610731728, 3786985912, 1500521428,  695029245,  419699253,\n",
       "       4152044025, 3397322512, 2936464733, 1328199721, 1694282403,\n",
       "       1152964272, 2575308257, 2325081438,  285882755,  205130338,\n",
       "       3051637837, 1827915111, 2856899377,  196944811,  845872542,\n",
       "       3111562628, 2902548317, 2330431390, 2481689806, 3078280227,\n",
       "        509386308,   58539546, 1012082866,  796884817, 2000620351,\n",
       "       2611318724, 3366645630, 1279142016, 3533180121, 4080368327,\n",
       "       1535468494, 2155288031,  177466687,   41320094,  909769431,\n",
       "       2278539691,   66628641,  309776596,  447395044,  216698600,\n",
       "        214998125,   41491060, 1168987568, 2342623962, 1534941614,\n",
       "       3472419220,  411327945, 4279686887, 2210447541, 2559984834,\n",
       "       2127949326, 2934530898,   57357135,  946082919, 2501041348,\n",
       "       3865290774, 1445016280, 3688810620, 3809127063, 4123604527,\n",
       "       3879803173,  490480730, 2966219806, 4090581623, 2218996662,\n",
       "       3424756133, 3276379124, 4104027026,    1157003,  821057578,\n",
       "        321654038, 2100745067, 4124854784, 1685685956, 3355554945,\n",
       "        958687436, 2273181723, 3461427379, 3566297416, 1125873632,\n",
       "       3017968807,   59574346, 1094968381, 3309236291, 2226683320,\n",
       "       1188385279, 2284866141, 2937519000, 2324447876,  708434531,\n",
       "        195888722, 2643325642, 3424866622,   67311937, 2213283697,\n",
       "       3109077228, 1833225336, 3385658947,  685565032, 1188157716,\n",
       "       2459116760,  833187427, 2719289437, 3783039667, 1502902075,\n",
       "        766492916, 3265451691, 2582129039, 1017880931,  484049151,\n",
       "        439667156, 1342832157, 2565025754, 3482433360, 1341680927,\n",
       "       1737125438, 3316272077, 3379182864,  389474299,  901093226,\n",
       "       3851653013, 1781968532,  449914291,   73783209,  582314702,\n",
       "       3184877763, 2141109640, 2096181147, 1325253976,  562092187,\n",
       "       1246619677, 3607434114, 3952937519,  810892146, 2148258496,\n",
       "        932355499,  267847158, 4166415601,   54792002,  606981650,\n",
       "       2542693165, 2949816892, 2135085699, 1764936094, 4160094952,\n",
       "       2935823950,  689166561,  539057962, 1652188125,  894130152,\n",
       "       2740900696, 2825954558, 2857813594, 1592912032, 3191933096,\n",
       "       3321967994, 1683225159, 3545826423, 2004825557, 4251015622,\n",
       "       3950306353, 3221738369, 1509415159,  284554755, 3450168643,\n",
       "       2607869528, 1387593761, 1123497013, 1257894468,  499865365,\n",
       "       1833721108, 1649368707,  545962141, 2799973343, 3267505362,\n",
       "       3085403558, 3010437921, 2416033008, 4290595901, 2653649224,\n",
       "       3931438523,   88096392, 2447175307, 2463595283, 2992812695,\n",
       "       3996379999,  863791173, 3213353968,  206478806, 1609441900,\n",
       "       4123993926, 2145161042, 1651322274, 1386355089, 2443935645,\n",
       "       3087158973, 1748496508,  839011751, 1218663554, 1779529479,\n",
       "       3320927047,  368537335, 1113405919, 3458866186,   80672274,\n",
       "        534108802, 1717614932, 3890609869, 3270318999, 4040452711,\n",
       "       1899281068, 2259890065, 3438117399, 1116365470,  458184110,\n",
       "        104504049, 3371856867, 2195177980, 3728895263, 1435799642,\n",
       "       1613088678,  803144755, 1834487248, 3345685793, 3822825234,\n",
       "       1277758000, 2545486706, 3755864704, 1751748589], dtype=uint32), 547, 0, 0.0))"
      ]
     },
     "execution_count": 7,
     "metadata": {},
     "output_type": "execute_result"
    }
   ],
   "source": [
    "def log_prior(sigma):\n",
    "    if np.all(sigma) > 0:\n",
    "        return 0.0\n",
    "    return -np.inf\n",
    "\n",
    "def log_likelihood(sigma, x):\n",
    "    log_l = np.sum(- 2 * np.log(sigma) - 0.5 * (x / sigma)**2 + np.log(x))\n",
    "    return log_l\n",
    "\n",
    "def log_posterior(sigma, x):\n",
    "    log_prio = log_prior(sigma)\n",
    "    if not np.isfinite(log_prio):\n",
    "        return - np.inf\n",
    "    log_like = log_likelihood(sigma, x)\n",
    "    log_post = log_like + log_prio\n",
    "    return log_post, log_prio, log_like\n",
    "\n",
    "\n",
    "import emcee\n",
    "\n",
    "sigma_arr = offset_err + 0.1 * np.random.random((16, 1)) \n",
    "\n",
    "nwalkers, ndim = sigma_arr.shape\n",
    "\n",
    "\n",
    "sampler = emcee.EnsembleSampler(nwalkers, ndim, log_posterior, args=[offset])\n",
    "sampler.run_mcmc(sigma_arr, 2000, progress = True)"
   ]
  },
  {
   "cell_type": "code",
   "execution_count": 8,
   "metadata": {},
   "outputs": [
    {
     "data": {
      "text/plain": [
       "Text(0.5, 0, 'step')"
      ]
     },
     "execution_count": 8,
     "metadata": {},
     "output_type": "execute_result"
    },
    {
     "data": {
      "image/png": "[encoded data removed]",
      "text/plain": [
       "<Figure size 432x288 with 1 Axes>"
      ]
     },
     "metadata": {
      "needs_background": "light"
     },
     "output_type": "display_data"
    }
   ],
   "source": [
    "sample = sampler.get_chain()\n",
    "label = [r'$\\sigma$']\n",
    "plt.plot(sample[:,:,0], \"k\", alpha=0.3)\n",
    "plt.ylabel(label[0])\n",
    "plt.xlabel('step')"
   ]
  },
  {
   "cell_type": "code",
   "execution_count": 9,
   "metadata": {},
   "outputs": [
    {
     "name": "stdout",
     "output_type": "stream",
     "text": [
      "Tau =  [19.77722984]\n"
     ]
    }
   ],
   "source": [
    "tau = sampler.get_autocorr_time()\n",
    "print('Tau = ', tau)"
   ]
  },
  {
   "cell_type": "code",
   "execution_count": 10,
   "metadata": {},
   "outputs": [
    {
     "name": "stdout",
     "output_type": "stream",
     "text": [
      "Sigma_max_likelihood =  0.07039099771653626\n"
     ]
    },
    {
     "name": "stderr",
     "output_type": "stream",
     "text": [
      "findfont: Font family ['Arial'] not found. Falling back to DejaVu Sans.\n"
     ]
    },
    {
     "data": {
      "image/png": "[encoded data removed]",
      "text/plain": [
       "<Figure size 244.8x244.8 with 1 Axes>"
      ]
     },
     "metadata": {
      "needs_background": "light"
     },
     "output_type": "display_data"
    },
    {
     "data": {
      "image/png": "[encoded data removed]",
      "text/plain": [
       "<Figure size 216x216 with 1 Axes>"
      ]
     },
     "metadata": {
      "needs_background": "light"
     },
     "output_type": "display_data"
    }
   ],
   "source": [
    "flat_samples = sampler.get_chain(discard=100, flat=True)\n",
    "flat_blob = sampler.get_blobs(flat=True,discard=100)\n",
    "\n",
    "Max_likelihood=np.argmax(flat_blob[:,1])\n",
    "sigma_ml = flat_samples[Max_likelihood,:][0]\n",
    "print('Sigma_max_likelihood = ', sigma_ml)\n",
    "\n",
    "import corner, pygtc\n",
    "fig = corner.corner(flat_samples, labels=label)\n",
    "\n",
    "GTC = pygtc.plotGTC(chains = flat_samples, paramNames = label, figureSize = 3, \n",
    "                    holdRC = True, customLabelFont = {'size':14}, \n",
    "                    customTickFont = {'size':14}, truths = flat_samples[Max_likelihood,:])"
   ]
  },
  {
   "cell_type": "markdown",
   "metadata": {},
   "source": [
    "# 2 Rayleigh Distributions:\n",
    "$$P(x|\\sigma_0, \\sigma_1, p_0) = x (\\frac{p_0}{\\sigma_0^2}\\mathrm{e}^{-0.5({x}/{\\sigma_0})^2} + \\frac{1 - p_0}{\\sigma_1^2}\\mathrm{e}^{-0.5({x}/{\\sigma_1})^2})$$\n"
   ]
  },
  {
   "cell_type": "code",
   "execution_count": 76,
   "metadata": {},
   "outputs": [
    {
     "name": "stderr",
     "output_type": "stream",
     "text": [
      "  1%|          | 19/2000 [00:00<00:29, 67.96it/s]\n"
     ]
    },
    {
     "ename": "TypeError",
     "evalue": "float() argument must be a string or a number, not 'tuple'",
     "output_type": "error",
     "traceback": [
      "\u001b[0;31m---------------------------------------------------------------------------\u001b[0m",
      "\u001b[0;31mTypeError\u001b[0m                                 Traceback (most recent call last)",
      "\u001b[0;32m~/anaconda3/lib/python3.7/site-packages/emcee/ensemble.py\u001b[0m in \u001b[0;36mcompute_log_prob\u001b[0;34m(self, coords)\u001b[0m\n\u001b[1;32m    430\u001b[0m         \u001b[0;32mtry\u001b[0m\u001b[0;34m:\u001b[0m\u001b[0;34m\u001b[0m\u001b[0;34m\u001b[0m\u001b[0m\n\u001b[0;32m--> 431\u001b[0;31m             \u001b[0mlog_prob\u001b[0m \u001b[0;34m=\u001b[0m \u001b[0mnp\u001b[0m\u001b[0;34m.\u001b[0m\u001b[0marray\u001b[0m\u001b[0;34m(\u001b[0m\u001b[0;34m[\u001b[0m\u001b[0mfloat\u001b[0m\u001b[0;34m(\u001b[0m\u001b[0ml\u001b[0m\u001b[0;34m[\u001b[0m\u001b[0;36m0\u001b[0m\u001b[0;34m]\u001b[0m\u001b[0;34m)\u001b[0m \u001b[0;32mfor\u001b[0m \u001b[0ml\u001b[0m \u001b[0;32min\u001b[0m \u001b[0mresults\u001b[0m\u001b[0;34m]\u001b[0m\u001b[0;34m)\u001b[0m\u001b[0;34m\u001b[0m\u001b[0;34m\u001b[0m\u001b[0m\n\u001b[0m\u001b[1;32m    432\u001b[0m             \u001b[0mblob\u001b[0m \u001b[0;34m=\u001b[0m \u001b[0;34m[\u001b[0m\u001b[0ml\u001b[0m\u001b[0;34m[\u001b[0m\u001b[0;36m1\u001b[0m\u001b[0;34m:\u001b[0m\u001b[0;34m]\u001b[0m \u001b[0;32mfor\u001b[0m \u001b[0ml\u001b[0m \u001b[0;32min\u001b[0m \u001b[0mresults\u001b[0m\u001b[0;34m]\u001b[0m\u001b[0;34m\u001b[0m\u001b[0;34m\u001b[0m\u001b[0m\n",
      "\u001b[0;32m~/anaconda3/lib/python3.7/site-packages/emcee/ensemble.py\u001b[0m in \u001b[0;36m<listcomp>\u001b[0;34m(.0)\u001b[0m\n\u001b[1;32m    430\u001b[0m         \u001b[0;32mtry\u001b[0m\u001b[0;34m:\u001b[0m\u001b[0;34m\u001b[0m\u001b[0;34m\u001b[0m\u001b[0m\n\u001b[0;32m--> 431\u001b[0;31m             \u001b[0mlog_prob\u001b[0m \u001b[0;34m=\u001b[0m \u001b[0mnp\u001b[0m\u001b[0;34m.\u001b[0m\u001b[0marray\u001b[0m\u001b[0;34m(\u001b[0m\u001b[0;34m[\u001b[0m\u001b[0mfloat\u001b[0m\u001b[0;34m(\u001b[0m\u001b[0ml\u001b[0m\u001b[0;34m[\u001b[0m\u001b[0;36m0\u001b[0m\u001b[0;34m]\u001b[0m\u001b[0;34m)\u001b[0m \u001b[0;32mfor\u001b[0m \u001b[0ml\u001b[0m \u001b[0;32min\u001b[0m \u001b[0mresults\u001b[0m\u001b[0;34m]\u001b[0m\u001b[0;34m)\u001b[0m\u001b[0;34m\u001b[0m\u001b[0;34m\u001b[0m\u001b[0m\n\u001b[0m\u001b[1;32m    432\u001b[0m             \u001b[0mblob\u001b[0m \u001b[0;34m=\u001b[0m \u001b[0;34m[\u001b[0m\u001b[0ml\u001b[0m\u001b[0;34m[\u001b[0m\u001b[0;36m1\u001b[0m\u001b[0;34m:\u001b[0m\u001b[0;34m]\u001b[0m \u001b[0;32mfor\u001b[0m \u001b[0ml\u001b[0m \u001b[0;32min\u001b[0m \u001b[0mresults\u001b[0m\u001b[0;34m]\u001b[0m\u001b[0;34m\u001b[0m\u001b[0;34m\u001b[0m\u001b[0m\n",
      "\u001b[0;31mTypeError\u001b[0m: 'float' object is not subscriptable",
      "\nDuring handling of the above exception, another exception occurred:\n",
      "\u001b[0;31mTypeError\u001b[0m                                 Traceback (most recent call last)",
      "\u001b[0;32m<ipython-input-76-dd73e5e9ac2a>\u001b[0m in \u001b[0;36m<module>\u001b[0;34m\u001b[0m\n\u001b[1;32m     23\u001b[0m \u001b[0;34m\u001b[0m\u001b[0m\n\u001b[1;32m     24\u001b[0m \u001b[0msampler2\u001b[0m \u001b[0;34m=\u001b[0m \u001b[0memcee\u001b[0m\u001b[0;34m.\u001b[0m\u001b[0mEnsembleSampler\u001b[0m\u001b[0;34m(\u001b[0m\u001b[0mnwalkers2\u001b[0m\u001b[0;34m,\u001b[0m \u001b[0mndim2\u001b[0m\u001b[0;34m,\u001b[0m \u001b[0mlog_posterior2\u001b[0m\u001b[0;34m,\u001b[0m \u001b[0margs\u001b[0m\u001b[0;34m=\u001b[0m\u001b[0;34m[\u001b[0m\u001b[0moffset\u001b[0m\u001b[0;34m]\u001b[0m\u001b[0;34m)\u001b[0m\u001b[0;34m\u001b[0m\u001b[0;34m\u001b[0m\u001b[0m\n\u001b[0;32m---> 25\u001b[0;31m \u001b[0msampler2\u001b[0m\u001b[0;34m.\u001b[0m\u001b[0mrun_mcmc\u001b[0m\u001b[0;34m(\u001b[0m\u001b[0msigma_arr2\u001b[0m\u001b[0;34m,\u001b[0m \u001b[0;36m2000\u001b[0m\u001b[0;34m,\u001b[0m \u001b[0mprogress\u001b[0m \u001b[0;34m=\u001b[0m \u001b[0;32mTrue\u001b[0m\u001b[0;34m)\u001b[0m\u001b[0;34m\u001b[0m\u001b[0;34m\u001b[0m\u001b[0m\n\u001b[0m",
      "\u001b[0;32m~/anaconda3/lib/python3.7/site-packages/emcee/ensemble.py\u001b[0m in \u001b[0;36mrun_mcmc\u001b[0;34m(self, initial_state, nsteps, **kwargs)\u001b[0m\n\u001b[1;32m    382\u001b[0m \u001b[0;34m\u001b[0m\u001b[0m\n\u001b[1;32m    383\u001b[0m         \u001b[0mresults\u001b[0m \u001b[0;34m=\u001b[0m \u001b[0;32mNone\u001b[0m\u001b[0;34m\u001b[0m\u001b[0;34m\u001b[0m\u001b[0m\n\u001b[0;32m--> 384\u001b[0;31m         \u001b[0;32mfor\u001b[0m \u001b[0mresults\u001b[0m \u001b[0;32min\u001b[0m \u001b[0mself\u001b[0m\u001b[0;34m.\u001b[0m\u001b[0msample\u001b[0m\u001b[0;34m(\u001b[0m\u001b[0minitial_state\u001b[0m\u001b[0;34m,\u001b[0m \u001b[0miterations\u001b[0m\u001b[0;34m=\u001b[0m\u001b[0mnsteps\u001b[0m\u001b[0;34m,\u001b[0m \u001b[0;34m**\u001b[0m\u001b[0mkwargs\u001b[0m\u001b[0;34m)\u001b[0m\u001b[0;34m:\u001b[0m\u001b[0;34m\u001b[0m\u001b[0;34m\u001b[0m\u001b[0m\n\u001b[0m\u001b[1;32m    385\u001b[0m             \u001b[0;32mpass\u001b[0m\u001b[0;34m\u001b[0m\u001b[0;34m\u001b[0m\u001b[0m\n\u001b[1;32m    386\u001b[0m \u001b[0;34m\u001b[0m\u001b[0m\n",
      "\u001b[0;32m~/anaconda3/lib/python3.7/site-packages/emcee/ensemble.py\u001b[0m in \u001b[0;36msample\u001b[0;34m(self, initial_state, log_prob0, rstate0, blobs0, iterations, tune, skip_initial_state_check, thin_by, thin, store, progress)\u001b[0m\n\u001b[1;32m    341\u001b[0m \u001b[0;34m\u001b[0m\u001b[0m\n\u001b[1;32m    342\u001b[0m                     \u001b[0;31m# Propose\u001b[0m\u001b[0;34m\u001b[0m\u001b[0;34m\u001b[0m\u001b[0;34m\u001b[0m\u001b[0m\n\u001b[0;32m--> 343\u001b[0;31m                     \u001b[0mstate\u001b[0m\u001b[0;34m,\u001b[0m \u001b[0maccepted\u001b[0m \u001b[0;34m=\u001b[0m \u001b[0mmove\u001b[0m\u001b[0;34m.\u001b[0m\u001b[0mpropose\u001b[0m\u001b[0;34m(\u001b[0m\u001b[0mmodel\u001b[0m\u001b[0;34m,\u001b[0m \u001b[0mstate\u001b[0m\u001b[0;34m)\u001b[0m\u001b[0;34m\u001b[0m\u001b[0;34m\u001b[0m\u001b[0m\n\u001b[0m\u001b[1;32m    344\u001b[0m                     \u001b[0mstate\u001b[0m\u001b[0;34m.\u001b[0m\u001b[0mrandom_state\u001b[0m \u001b[0;34m=\u001b[0m \u001b[0mself\u001b[0m\u001b[0;34m.\u001b[0m\u001b[0mrandom_state\u001b[0m\u001b[0;34m\u001b[0m\u001b[0;34m\u001b[0m\u001b[0m\n\u001b[1;32m    345\u001b[0m \u001b[0;34m\u001b[0m\u001b[0m\n",
      "\u001b[0;32m~/anaconda3/lib/python3.7/site-packages/emcee/moves/red_blue.py\u001b[0m in \u001b[0;36mpropose\u001b[0;34m(self, model, state)\u001b[0m\n\u001b[1;32m     91\u001b[0m \u001b[0;34m\u001b[0m\u001b[0m\n\u001b[1;32m     92\u001b[0m             \u001b[0;31m# Compute the lnprobs of the proposed position.\u001b[0m\u001b[0;34m\u001b[0m\u001b[0;34m\u001b[0m\u001b[0;34m\u001b[0m\u001b[0m\n\u001b[0;32m---> 93\u001b[0;31m             \u001b[0mnew_log_probs\u001b[0m\u001b[0;34m,\u001b[0m \u001b[0mnew_blobs\u001b[0m \u001b[0;34m=\u001b[0m \u001b[0mmodel\u001b[0m\u001b[0;34m.\u001b[0m\u001b[0mcompute_log_prob_fn\u001b[0m\u001b[0;34m(\u001b[0m\u001b[0mq\u001b[0m\u001b[0;34m)\u001b[0m\u001b[0;34m\u001b[0m\u001b[0;34m\u001b[0m\u001b[0m\n\u001b[0m\u001b[1;32m     94\u001b[0m \u001b[0;34m\u001b[0m\u001b[0m\n\u001b[1;32m     95\u001b[0m             \u001b[0;31m# Loop over the walkers and update them accordingly.\u001b[0m\u001b[0;34m\u001b[0m\u001b[0;34m\u001b[0m\u001b[0;34m\u001b[0m\u001b[0m\n",
      "\u001b[0;32m~/anaconda3/lib/python3.7/site-packages/emcee/ensemble.py\u001b[0m in \u001b[0;36mcompute_log_prob\u001b[0;34m(self, coords)\u001b[0m\n\u001b[1;32m    432\u001b[0m             \u001b[0mblob\u001b[0m \u001b[0;34m=\u001b[0m \u001b[0;34m[\u001b[0m\u001b[0ml\u001b[0m\u001b[0;34m[\u001b[0m\u001b[0;36m1\u001b[0m\u001b[0;34m:\u001b[0m\u001b[0;34m]\u001b[0m \u001b[0;32mfor\u001b[0m \u001b[0ml\u001b[0m \u001b[0;32min\u001b[0m \u001b[0mresults\u001b[0m\u001b[0;34m]\u001b[0m\u001b[0;34m\u001b[0m\u001b[0;34m\u001b[0m\u001b[0m\n\u001b[1;32m    433\u001b[0m         \u001b[0;32mexcept\u001b[0m \u001b[0;34m(\u001b[0m\u001b[0mIndexError\u001b[0m\u001b[0;34m,\u001b[0m \u001b[0mTypeError\u001b[0m\u001b[0;34m)\u001b[0m\u001b[0;34m:\u001b[0m\u001b[0;34m\u001b[0m\u001b[0;34m\u001b[0m\u001b[0m\n\u001b[0;32m--> 434\u001b[0;31m             \u001b[0mlog_prob\u001b[0m \u001b[0;34m=\u001b[0m \u001b[0mnp\u001b[0m\u001b[0;34m.\u001b[0m\u001b[0marray\u001b[0m\u001b[0;34m(\u001b[0m\u001b[0;34m[\u001b[0m\u001b[0mfloat\u001b[0m\u001b[0;34m(\u001b[0m\u001b[0ml\u001b[0m\u001b[0;34m)\u001b[0m \u001b[0;32mfor\u001b[0m \u001b[0ml\u001b[0m \u001b[0;32min\u001b[0m \u001b[0mresults\u001b[0m\u001b[0;34m]\u001b[0m\u001b[0;34m)\u001b[0m\u001b[0;34m\u001b[0m\u001b[0;34m\u001b[0m\u001b[0m\n\u001b[0m\u001b[1;32m    435\u001b[0m             \u001b[0mblob\u001b[0m \u001b[0;34m=\u001b[0m \u001b[0;32mNone\u001b[0m\u001b[0;34m\u001b[0m\u001b[0;34m\u001b[0m\u001b[0m\n\u001b[1;32m    436\u001b[0m         \u001b[0;32melse\u001b[0m\u001b[0;34m:\u001b[0m\u001b[0;34m\u001b[0m\u001b[0;34m\u001b[0m\u001b[0m\n",
      "\u001b[0;32m~/anaconda3/lib/python3.7/site-packages/emcee/ensemble.py\u001b[0m in \u001b[0;36m<listcomp>\u001b[0;34m(.0)\u001b[0m\n\u001b[1;32m    432\u001b[0m             \u001b[0mblob\u001b[0m \u001b[0;34m=\u001b[0m \u001b[0;34m[\u001b[0m\u001b[0ml\u001b[0m\u001b[0;34m[\u001b[0m\u001b[0;36m1\u001b[0m\u001b[0;34m:\u001b[0m\u001b[0;34m]\u001b[0m \u001b[0;32mfor\u001b[0m \u001b[0ml\u001b[0m \u001b[0;32min\u001b[0m \u001b[0mresults\u001b[0m\u001b[0;34m]\u001b[0m\u001b[0;34m\u001b[0m\u001b[0;34m\u001b[0m\u001b[0m\n\u001b[1;32m    433\u001b[0m         \u001b[0;32mexcept\u001b[0m \u001b[0;34m(\u001b[0m\u001b[0mIndexError\u001b[0m\u001b[0;34m,\u001b[0m \u001b[0mTypeError\u001b[0m\u001b[0;34m)\u001b[0m\u001b[0;34m:\u001b[0m\u001b[0;34m\u001b[0m\u001b[0;34m\u001b[0m\u001b[0m\n\u001b[0;32m--> 434\u001b[0;31m             \u001b[0mlog_prob\u001b[0m \u001b[0;34m=\u001b[0m \u001b[0mnp\u001b[0m\u001b[0;34m.\u001b[0m\u001b[0marray\u001b[0m\u001b[0;34m(\u001b[0m\u001b[0;34m[\u001b[0m\u001b[0mfloat\u001b[0m\u001b[0;34m(\u001b[0m\u001b[0ml\u001b[0m\u001b[0;34m)\u001b[0m \u001b[0;32mfor\u001b[0m \u001b[0ml\u001b[0m \u001b[0;32min\u001b[0m \u001b[0mresults\u001b[0m\u001b[0;34m]\u001b[0m\u001b[0;34m)\u001b[0m\u001b[0;34m\u001b[0m\u001b[0;34m\u001b[0m\u001b[0m\n\u001b[0m\u001b[1;32m    435\u001b[0m             \u001b[0mblob\u001b[0m \u001b[0;34m=\u001b[0m \u001b[0;32mNone\u001b[0m\u001b[0;34m\u001b[0m\u001b[0;34m\u001b[0m\u001b[0m\n\u001b[1;32m    436\u001b[0m         \u001b[0;32melse\u001b[0m\u001b[0;34m:\u001b[0m\u001b[0;34m\u001b[0m\u001b[0;34m\u001b[0m\u001b[0m\n",
      "\u001b[0;31mTypeError\u001b[0m: float() argument must be a string or a number, not 'tuple'"
     ]
    }
   ],
   "source": [
    "def log_prior2(theta):\n",
    "    sigma_0, sigma_1, p_0 = theta\n",
    "    if sigma_0 > 0 and sigma_1 >= sigma_0 and 0 < p_0 < 1:\n",
    "        return 0.0\n",
    "    return -np.inf\n",
    "\n",
    "def log_likelihood2(theta, x):\n",
    "    sigma_0, sigma_1, p_0 = theta\n",
    "    log_l = np.sum(np.log(x * (p_0 * np.exp(- 0.5 * (x / sigma_0)**2) / (sigma_0**2) + (1 - p_0) * np.exp(- 0.5 * (x / sigma_1)**2) / (sigma_1**2))))\n",
    "    return log_l\n",
    "\n",
    "def log_posterior2(theta, x):\n",
    "    log_prio = log_prior2(theta)\n",
    "    if not np.isfinite(log_prio):\n",
    "        return - np.inf\n",
    "    log_like = log_likelihood2(theta, x)\n",
    "    log_post = log_like + log_prio\n",
    "    return log_post, log_prio, log_like\n",
    "\n",
    "\n",
    "sigma_arr2 = [0.3, 0.5, 0.5] + 1e-2 * np.random.random((16, 3))\n",
    "nwalkers2, ndim2 = sigma_arr2.shape\n",
    "\n",
    "sampler2 = emcee.EnsembleSampler(nwalkers2, ndim2, log_posterior2, args=[offset])\n",
    "sampler2.run_mcmc(sigma_arr2, 2000, progress = True)"
   ]
  },
  {
   "cell_type": "code",
   "execution_count": 48,
   "metadata": {},
   "outputs": [
    {
     "ename": "AttributeError",
     "evalue": "you must run the sampler with 'store == True' before accessing the results",
     "output_type": "error",
     "traceback": [
      "\u001b[0;31m---------------------------------------------------------------------------\u001b[0m",
      "\u001b[0;31mAttributeError\u001b[0m                            Traceback (most recent call last)",
      "\u001b[0;32m<ipython-input-48-dce962a89445>\u001b[0m in \u001b[0;36m<module>\u001b[0;34m\u001b[0m\n\u001b[1;32m      1\u001b[0m \u001b[0mfig\u001b[0m\u001b[0;34m,\u001b[0m \u001b[0maxes\u001b[0m \u001b[0;34m=\u001b[0m \u001b[0mplt\u001b[0m\u001b[0;34m.\u001b[0m\u001b[0msubplots\u001b[0m\u001b[0;34m(\u001b[0m\u001b[0;36m3\u001b[0m\u001b[0;34m,\u001b[0m \u001b[0mfigsize\u001b[0m\u001b[0;34m=\u001b[0m\u001b[0;34m(\u001b[0m\u001b[0;36m10\u001b[0m\u001b[0;34m,\u001b[0m \u001b[0;36m7\u001b[0m\u001b[0;34m)\u001b[0m\u001b[0;34m,\u001b[0m \u001b[0msharex\u001b[0m\u001b[0;34m=\u001b[0m\u001b[0;32mTrue\u001b[0m\u001b[0;34m)\u001b[0m\u001b[0;34m\u001b[0m\u001b[0;34m\u001b[0m\u001b[0m\n\u001b[0;32m----> 2\u001b[0;31m \u001b[0msamples\u001b[0m \u001b[0;34m=\u001b[0m \u001b[0msampler\u001b[0m\u001b[0;34m.\u001b[0m\u001b[0mget_chain\u001b[0m\u001b[0;34m(\u001b[0m\u001b[0;34m)\u001b[0m\u001b[0;34m\u001b[0m\u001b[0;34m\u001b[0m\u001b[0m\n\u001b[0m\u001b[1;32m      3\u001b[0m \u001b[0;34m\u001b[0m\u001b[0m\n\u001b[1;32m      4\u001b[0m \u001b[0mprint\u001b[0m\u001b[0;34m(\u001b[0m\u001b[0msamples\u001b[0m\u001b[0;34m.\u001b[0m\u001b[0mshape\u001b[0m\u001b[0;34m)\u001b[0m\u001b[0;34m\u001b[0m\u001b[0;34m\u001b[0m\u001b[0m\n\u001b[1;32m      5\u001b[0m \u001b[0mlabels\u001b[0m \u001b[0;34m=\u001b[0m \u001b[0;34m[\u001b[0m\u001b[0;34m\"$\\sigma_0$\"\u001b[0m\u001b[0;34m,\u001b[0m \u001b[0;34m\"$\\sigma_1$\"\u001b[0m\u001b[0;34m,\u001b[0m \u001b[0;34m\"p$_0$\"\u001b[0m\u001b[0;34m]\u001b[0m\u001b[0;34m\u001b[0m\u001b[0;34m\u001b[0m\u001b[0m\n",
      "\u001b[0;32m~/anaconda3/lib/python3.7/site-packages/emcee/ensemble.py\u001b[0m in \u001b[0;36mget_chain\u001b[0;34m(self, **kwargs)\u001b[0m\n\u001b[1;32m    501\u001b[0m \u001b[0;34m\u001b[0m\u001b[0m\n\u001b[1;32m    502\u001b[0m     \u001b[0;32mdef\u001b[0m \u001b[0mget_chain\u001b[0m\u001b[0;34m(\u001b[0m\u001b[0mself\u001b[0m\u001b[0;34m,\u001b[0m \u001b[0;34m**\u001b[0m\u001b[0mkwargs\u001b[0m\u001b[0;34m)\u001b[0m\u001b[0;34m:\u001b[0m\u001b[0;34m\u001b[0m\u001b[0;34m\u001b[0m\u001b[0m\n\u001b[0;32m--> 503\u001b[0;31m         \u001b[0;32mreturn\u001b[0m \u001b[0mself\u001b[0m\u001b[0;34m.\u001b[0m\u001b[0mget_value\u001b[0m\u001b[0;34m(\u001b[0m\u001b[0;34m\"chain\"\u001b[0m\u001b[0;34m,\u001b[0m \u001b[0;34m**\u001b[0m\u001b[0mkwargs\u001b[0m\u001b[0;34m)\u001b[0m\u001b[0;34m\u001b[0m\u001b[0;34m\u001b[0m\u001b[0m\n\u001b[0m\u001b[1;32m    504\u001b[0m \u001b[0;34m\u001b[0m\u001b[0m\n\u001b[1;32m    505\u001b[0m     \u001b[0mget_chain\u001b[0m\u001b[0;34m.\u001b[0m\u001b[0m__doc__\u001b[0m \u001b[0;34m=\u001b[0m \u001b[0mBackend\u001b[0m\u001b[0;34m.\u001b[0m\u001b[0mget_chain\u001b[0m\u001b[0;34m.\u001b[0m\u001b[0m__doc__\u001b[0m\u001b[0;34m\u001b[0m\u001b[0;34m\u001b[0m\u001b[0m\n",
      "\u001b[0;32m~/anaconda3/lib/python3.7/site-packages/emcee/ensemble.py\u001b[0m in \u001b[0;36mget_value\u001b[0;34m(self, name, **kwargs)\u001b[0m\n\u001b[1;32m    521\u001b[0m \u001b[0;34m\u001b[0m\u001b[0m\n\u001b[1;32m    522\u001b[0m     \u001b[0;32mdef\u001b[0m \u001b[0mget_value\u001b[0m\u001b[0;34m(\u001b[0m\u001b[0mself\u001b[0m\u001b[0;34m,\u001b[0m \u001b[0mname\u001b[0m\u001b[0;34m,\u001b[0m \u001b[0;34m**\u001b[0m\u001b[0mkwargs\u001b[0m\u001b[0;34m)\u001b[0m\u001b[0;34m:\u001b[0m\u001b[0;34m\u001b[0m\u001b[0;34m\u001b[0m\u001b[0m\n\u001b[0;32m--> 523\u001b[0;31m         \u001b[0;32mreturn\u001b[0m \u001b[0mself\u001b[0m\u001b[0;34m.\u001b[0m\u001b[0mbackend\u001b[0m\u001b[0;34m.\u001b[0m\u001b[0mget_value\u001b[0m\u001b[0;34m(\u001b[0m\u001b[0mname\u001b[0m\u001b[0;34m,\u001b[0m \u001b[0;34m**\u001b[0m\u001b[0mkwargs\u001b[0m\u001b[0;34m)\u001b[0m\u001b[0;34m\u001b[0m\u001b[0;34m\u001b[0m\u001b[0m\n\u001b[0m\u001b[1;32m    524\u001b[0m \u001b[0;34m\u001b[0m\u001b[0m\n\u001b[1;32m    525\u001b[0m     \u001b[0;32mdef\u001b[0m \u001b[0mget_autocorr_time\u001b[0m\u001b[0;34m(\u001b[0m\u001b[0mself\u001b[0m\u001b[0;34m,\u001b[0m \u001b[0;34m**\u001b[0m\u001b[0mkwargs\u001b[0m\u001b[0;34m)\u001b[0m\u001b[0;34m:\u001b[0m\u001b[0;34m\u001b[0m\u001b[0;34m\u001b[0m\u001b[0m\n",
      "\u001b[0;32m~/anaconda3/lib/python3.7/site-packages/emcee/backends/backend.py\u001b[0m in \u001b[0;36mget_value\u001b[0;34m(self, name, flat, thin, discard)\u001b[0m\n\u001b[1;32m     43\u001b[0m         \u001b[0;32mif\u001b[0m \u001b[0mself\u001b[0m\u001b[0;34m.\u001b[0m\u001b[0miteration\u001b[0m \u001b[0;34m<=\u001b[0m \u001b[0;36m0\u001b[0m\u001b[0;34m:\u001b[0m\u001b[0;34m\u001b[0m\u001b[0;34m\u001b[0m\u001b[0m\n\u001b[1;32m     44\u001b[0m             raise AttributeError(\n\u001b[0;32m---> 45\u001b[0;31m                 \u001b[0;34m\"you must run the sampler with \"\u001b[0m\u001b[0;34m\u001b[0m\u001b[0;34m\u001b[0m\u001b[0m\n\u001b[0m\u001b[1;32m     46\u001b[0m                 \u001b[0;34m\"'store == True' before accessing the \"\u001b[0m\u001b[0;34m\u001b[0m\u001b[0;34m\u001b[0m\u001b[0m\n\u001b[1;32m     47\u001b[0m                 \u001b[0;34m\"results\"\u001b[0m\u001b[0;34m\u001b[0m\u001b[0;34m\u001b[0m\u001b[0m\n",
      "\u001b[0;31mAttributeError\u001b[0m: you must run the sampler with 'store == True' before accessing the results"
     ]
    },
    {
     "data": {
      "image/png": "[encoded data removed]",
      "text/plain": [
       "<Figure size 720x504 with 3 Axes>"
      ]
     },
     "metadata": {
      "needs_background": "light"
     },
     "output_type": "display_data"
    }
   ],
   "source": [
    "fig, axes = plt.subplots(3, figsize=(10, 7), sharex=True)\n",
    "samples = sampler.get_chain()\n",
    "\n",
    "print(samples.shape)\n",
    "labels = [\"$\\sigma_0$\", \"$\\sigma_1$\", \"p$_0$\"]\n",
    "for i in range(ndim):\n",
    "    ax = axes[i]\n",
    "    ax.plot(samples[:, :, i], \"k\", alpha=0.3)\n",
    "    ax.set_xlim(0, len(samples))\n",
    "    ax.set_ylabel(labels[i])\n",
    "    ax.yaxis.set_label_coords(-0.1, 0.5)\n",
    "\n",
    "axes[-1].set_xlabel(\"step number\");"
   ]
  },
  {
   "cell_type": "code",
   "execution_count": null,
   "metadata": {},
   "outputs": [],
   "source": []
  }
 ],
 "metadata": {
  "kernelspec": {
   "display_name": "Python 3",
   "language": "python",
   "name": "python3"
  },
  "language_info": {
   "codemirror_mode": {
    "name": "ipython",
    "version": 3
   },
   "file_extension": ".py",
   "mimetype": "text/x-python",
   "name": "python",
   "nbconvert_exporter": "python",
   "pygments_lexer": "ipython3",
   "version": "3.7.4"
  }
 },
 "nbformat": 4,
 "nbformat_minor": 2
}
